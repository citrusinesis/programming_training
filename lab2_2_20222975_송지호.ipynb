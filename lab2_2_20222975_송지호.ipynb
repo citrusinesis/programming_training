{
  "nbformat": 4,
  "nbformat_minor": 0,
  "metadata": {
    "colab": {
      "provenance": []
    },
    "kernelspec": {
      "name": "python3",
      "display_name": "Python 3"
    },
    "language_info": {
      "name": "python"
    }
  },
  "cells": [
    {
      "cell_type": "code",
      "source": [
        "%%writefile arthimatic.c\n",
        "#include <stdio.h>\n",
        "\n",
        "int main() {\n",
        "  int x, y, sum;\n",
        "\n",
        "  printf(\"첫 번째 숫자를 입력하시오: \");\n",
        "  scanf(\"%d\", &x);\n",
        "\n",
        "  printf(\"두 번째 숫자를 입력하시오: \");\n",
        "  scanf(\"%d\", &y);\n",
        "\n",
        "  printf(\"두수의 합 = %d\\n\", x+y);\n",
        "  printf(\"두수의 차 = %d\\n\", x-y);\n",
        "  printf(\"두수의 곱 = %d\\n\", x*y);\n",
        "  printf(\"두수의 몫 = %d\\n\", x/y);\n",
        "\n",
        "  return 0;\n",
        "}"
      ],
      "metadata": {
        "colab": {
          "base_uri": "https://localhost:8080/"
        },
        "id": "x_TAWq0JC9cr",
        "outputId": "d6de6813-a8eb-4fba-c3d6-d95cd1a3604b"
      },
      "execution_count": null,
      "outputs": [
        {
          "output_type": "stream",
          "name": "stdout",
          "text": [
            "Writing arthimatic.c\n"
          ]
        }
      ]
    },
    {
      "cell_type": "code",
      "source": [
        "%%shell\n",
        "gcc arthimatic.c\n",
        "./a.out"
      ],
      "metadata": {
        "colab": {
          "base_uri": "https://localhost:8080/"
        },
        "id": "PZUHb5D3DR8T",
        "outputId": "839f9f04-d1ca-4488-adf0-2a207f2221a1"
      },
      "execution_count": null,
      "outputs": [
        {
          "output_type": "stream",
          "name": "stdout",
          "text": [
            "첫 번째 숫자를 입력하시오: 100\n",
            "두 번째 숫자를 입력하시오: 200\n",
            "두수의 합 = 300\n",
            "두수의 차 = -100\n",
            "두수의 곱 = 20000\n",
            "두수의 몫 = 0\n"
          ]
        },
        {
          "output_type": "execute_result",
          "data": {
            "text/plain": []
          },
          "metadata": {},
          "execution_count": 24
        }
      ]
    },
    {
      "cell_type": "code",
      "source": [
        "%%writefile avgPrice.c\n",
        "#include <stdio.h>\n",
        "\n",
        "int main() {\n",
        "  int p1, p2;\n",
        "  scanf(\"%d %d\", &p1, &p2);\n",
        "\n",
        "  printf(\"Average: %d\\n\", (p1+p2)/2);\n",
        "  return 0;\n",
        "}"
      ],
      "metadata": {
        "colab": {
          "base_uri": "https://localhost:8080/"
        },
        "id": "G3jFngnOFRsd",
        "outputId": "34425245-528c-47c7-fe14-36d7975772d5"
      },
      "execution_count": 1,
      "outputs": [
        {
          "output_type": "stream",
          "name": "stdout",
          "text": [
            "Writing avgPrice.c\n"
          ]
        }
      ]
    },
    {
      "cell_type": "code",
      "source": [
        "%%shell\n",
        "gcc avgPrice.c\n",
        "./a.out"
      ],
      "metadata": {
        "colab": {
          "base_uri": "https://localhost:8080/"
        },
        "id": "2xdTjlCdFRyX",
        "outputId": "057968bf-9ab6-4d42-ccfc-34bab0df19e8"
      },
      "execution_count": 2,
      "outputs": [
        {
          "output_type": "stream",
          "name": "stdout",
          "text": [
            "10000 20000\n",
            "Average: 15000\n"
          ]
        },
        {
          "output_type": "execute_result",
          "data": {
            "text/plain": []
          },
          "metadata": {},
          "execution_count": 2
        }
      ]
    },
    {
      "cell_type": "code",
      "source": [
        "%%writefile travel.c\n",
        "#include <stdio.h>\n",
        "\n",
        "int main() {\n",
        "  int sum = 0, price, nights, days;\n",
        "\n",
        "  printf(\"여행은 몇박인가요?: \");\n",
        "  scanf(\"%d\", &nights);\n",
        "  days = nights + 1;\n",
        "\n",
        "  printf(\"항공권 가격: \");\n",
        "  scanf(\"%d\", &price);\n",
        "  sum += price;\n",
        "\n",
        "  printf(\"호텔 1박 가격: \");\n",
        "  scanf(\"%d\", &price);\n",
        "  sum += nights * price;\n",
        "\n",
        "  printf(\"하루에 필요한 용돈: \");\n",
        "  scanf(\"%d\", &price);\n",
        "  sum += days * price;\n",
        "\n",
        "  printf(\"============================\\n\");\n",
        "  printf(\"총 여행 비용: %d\\n\", sum);\n",
        "  printf(\"============================\\n\");\n",
        "\n",
        "  return 0;\n",
        "}"
      ],
      "metadata": {
        "colab": {
          "base_uri": "https://localhost:8080/"
        },
        "id": "dwX-cwaVDUiv",
        "outputId": "2e1030cb-e00a-410e-a664-6af96c00ce2f"
      },
      "execution_count": null,
      "outputs": [
        {
          "output_type": "stream",
          "name": "stdout",
          "text": [
            "Overwriting travel.c\n"
          ]
        }
      ]
    },
    {
      "cell_type": "code",
      "source": [
        "%%shell\n",
        "gcc travel.c\n",
        "./a.out"
      ],
      "metadata": {
        "colab": {
          "base_uri": "https://localhost:8080/"
        },
        "id": "k6LuVmXzEW3t",
        "outputId": "0ca0dbd3-fe36-48a3-b778-7b9d64ffd929"
      },
      "execution_count": null,
      "outputs": [
        {
          "output_type": "stream",
          "name": "stdout",
          "text": [
            "여행은 몇박인가요?: 3\n",
            "항공권 가격: 1000000\n",
            "호텔 1박 가격: 200000\n",
            "하루에 필요한 용돈: 50000\n",
            "============================\n",
            "총 여행 비용: 1800000\n",
            "============================\n"
          ]
        },
        {
          "output_type": "execute_result",
          "data": {
            "text/plain": []
          },
          "metadata": {},
          "execution_count": 32
        }
      ]
    }
  ]
}