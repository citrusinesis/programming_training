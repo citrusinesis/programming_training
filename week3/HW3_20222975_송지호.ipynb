{
  "cells": [
    {
      "cell_type": "code",
      "execution_count": null,
      "metadata": {
        "colab": {
          "base_uri": "https://localhost:8080/"
        },
        "id": "L9wd17WmfRFo",
        "outputId": "647b3f6d-002b-465d-9a56-52b827c002c4"
      },
      "outputs": [
        {
          "name": "stdout",
          "output_type": "stream",
          "text": [
            "Writing floatToExponential.c\n"
          ]
        }
      ],
      "source": [
        "%%writefile floatToExponential.c\n",
        "#include <stdio.h>\n",
        "\n",
        "int main() {\n",
        "  double input;\n",
        "  \n",
        "  printf(\"실수를 입력하시오: \");\n",
        "  scanf(\"%lf\", &input);\n",
        "\n",
        "  printf(\"지수 형식으로는 %le입니다.\", input);\n",
        "}"
      ]
    },
    {
      "cell_type": "code",
      "execution_count": null,
      "metadata": {
        "colab": {
          "base_uri": "https://localhost:8080/"
        },
        "id": "VyX76UvdfuMM",
        "outputId": "84e72858-b81a-4df8-90b4-deef4131530c"
      },
      "outputs": [
        {
          "name": "stdout",
          "output_type": "stream",
          "text": [
            "실수를 입력하시오: 1.234\n",
            "지수 형식으로는 1.234000e+00입니다."
          ]
        },
        {
          "data": {
            "text/plain": []
          },
          "execution_count": 2,
          "metadata": {},
          "output_type": "execute_result"
        }
      ],
      "source": [
        "%%shell\n",
        "gcc floatToExponential.c\n",
        "./a.out"
      ]
    },
    {
      "cell_type": "code",
      "execution_count": null,
      "metadata": {
        "colab": {
          "base_uri": "https://localhost:8080/"
        },
        "id": "obvzQc1efzVP",
        "outputId": "56f2ac37-cff6-4ed9-bbfd-54e1247c5026"
      },
      "outputs": [
        {
          "name": "stdout",
          "output_type": "stream",
          "text": [
            "Writing exponentialToFloat.c\n"
          ]
        }
      ],
      "source": [
        "%%writefile exponentialToFloat.c\n",
        "#include <stdio.h>\n",
        "\n",
        "int main() {\n",
        "  double input;\n",
        "  \n",
        "  printf(\"지수형식으로 실수를 입력하시오: \");\n",
        "  scanf(\"%le\", &input);\n",
        "\n",
        "  printf(\"소수점 표시 형식으로는 %lf입니다.\", input);\n",
        "}"
      ]
    },
    {
      "cell_type": "code",
      "execution_count": null,
      "metadata": {
        "colab": {
          "base_uri": "https://localhost:8080/"
        },
        "id": "2ynQSa7AgC6E",
        "outputId": "affaa150-d720-465c-af61-eaccb95f91d3"
      },
      "outputs": [
        {
          "name": "stdout",
          "output_type": "stream",
          "text": [
            "지수형식으로 실수를 입력하시오: 1.234e10\n",
            "소수점 표시 형식으로는 12340000000.000000입니다."
          ]
        },
        {
          "data": {
            "text/plain": []
          },
          "execution_count": 4,
          "metadata": {},
          "output_type": "execute_result"
        }
      ],
      "source": [
        "%%shell\n",
        "gcc exponentialToFloat.c\n",
        "./a.out"
      ]
    },
    {
      "cell_type": "code",
      "execution_count": null,
      "metadata": {
        "colab": {
          "base_uri": "https://localhost:8080/"
        },
        "id": "llkYrlppgL0n",
        "outputId": "01dc78f5-4d38-4e0e-d13f-9106052051ad"
      },
      "outputs": [
        {
          "name": "stdout",
          "output_type": "stream",
          "text": [
            "Overwriting sphere.c\n"
          ]
        }
      ],
      "source": [
        "%%writefile sphere.c\n",
        "#include <stdio.h>\n",
        "#define PI 3.14159265359\n",
        "\n",
        "int main() {\n",
        "  long double radius, area, volume;\n",
        "\n",
        "  printf(\"반지름을 입력하시오: \");\n",
        "  scanf(\"%Lf\", &radius);\n",
        "\n",
        "  area = 4.0 * PI * (radius * radius);\n",
        "  volume = 4.0/3.0 * PI * (radius * radius * radius);\n",
        "\n",
        "  printf(\"구의 표면적: %Lf\\n\", area);\n",
        "  printf(\"구의 부피: %Lf\\n\", volume);\n",
        "}"
      ]
    },
    {
      "cell_type": "code",
      "execution_count": null,
      "metadata": {
        "colab": {
          "base_uri": "https://localhost:8080/"
        },
        "id": "hPFW3-buhRln",
        "outputId": "6d725107-2efa-4457-9bc0-f0685f9a61d6"
      },
      "outputs": [
        {
          "name": "stdout",
          "output_type": "stream",
          "text": [
            "반지름을 입력하시오: 60.0\n",
            "구의 표면적: 45238.934212\n",
            "구의 부피: 904778.684234\n"
          ]
        },
        {
          "data": {
            "text/plain": []
          },
          "execution_count": 21,
          "metadata": {},
          "output_type": "execute_result"
        }
      ],
      "source": [
        "%%shell\n",
        "gcc sphere.c\n",
        "./a.out"
      ]
    },
    {
      "cell_type": "code",
      "execution_count": null,
      "metadata": {
        "colab": {
          "base_uri": "https://localhost:8080/"
        },
        "id": "Z58xpukuiqOG",
        "outputId": "82139454-d080-4e0f-dc7a-12653c00b77b"
      },
      "outputs": [
        {
          "name": "stdout",
          "output_type": "stream",
          "text": [
            "Writing polynomal.c\n"
          ]
        }
      ],
      "source": [
        "%%writefile polynomal.c\n",
        "#include <stdio.h>\n",
        "\n",
        "int main() {\n",
        "  double x;\n",
        "\n",
        "  printf(\"x의 값을 입력하시오: \");\n",
        "  scanf(\"%lf\", &x);\n",
        "\n",
        "  printf(\"다항식의 값은 %lf입니다.\", (3 * x * x * x) - (7 * x * x) + 9);\n",
        "}"
      ]
    },
    {
      "cell_type": "code",
      "execution_count": null,
      "metadata": {
        "colab": {
          "base_uri": "https://localhost:8080/"
        },
        "id": "2voltiQYjD05",
        "outputId": "11f48a4b-b0ea-4b6f-8180-556b9187d97f"
      },
      "outputs": [
        {
          "name": "stdout",
          "output_type": "stream",
          "text": [
            "x의 값을 입력하시오: 3.9\n",
            "다항식의 값은 80.487000입니다."
          ]
        },
        {
          "data": {
            "text/plain": []
          },
          "execution_count": 23,
          "metadata": {},
          "output_type": "execute_result"
        }
      ],
      "source": [
        "%%shell\n",
        "gcc polynomal.c\n",
        "./a.out"
      ]
    },
    {
      "cell_type": "code",
      "execution_count": null,
      "metadata": {
        "colab": {
          "base_uri": "https://localhost:8080/"
        },
        "id": "IVoTbX4jjKRI",
        "outputId": "03fd255d-fc33-4554-8525-2db4b1555012"
      },
      "outputs": [
        {
          "name": "stdout",
          "output_type": "stream",
          "text": [
            "Writing ascii.c\n"
          ]
        }
      ],
      "source": [
        "%%writefile ascii.c\n",
        "#include <stdio.h>\n",
        "\n",
        "int main() {\n",
        "  printf(\"문자를 입력하시오: \");\n",
        "  printf(\"아스키 코드: %d\", getchar());\n",
        "}"
      ]
    },
    {
      "cell_type": "code",
      "execution_count": null,
      "metadata": {
        "colab": {
          "base_uri": "https://localhost:8080/"
        },
        "id": "A486I1PDjZDO",
        "outputId": "41a902cb-c320-40b2-bded-26e9760d04da"
      },
      "outputs": [
        {
          "name": "stdout",
          "output_type": "stream",
          "text": [
            "문자를 입력하시오: a\n",
            "아스키 코드: 97"
          ]
        },
        {
          "data": {
            "text/plain": []
          },
          "execution_count": 26,
          "metadata": {},
          "output_type": "execute_result"
        }
      ],
      "source": [
        "%%shell\n",
        "gcc ascii.c\n",
        "./a.out"
      ]
    },
    {
      "cell_type": "code",
      "execution_count": null,
      "metadata": {
        "colab": {
          "base_uri": "https://localhost:8080/"
        },
        "id": "5RP74P2mjn1p",
        "outputId": "66d3e212-0b60-4028-851f-ce2cb101633a"
      },
      "outputs": [
        {
          "name": "stdout",
          "output_type": "stream",
          "text": [
            "Writing printInverse.c\n"
          ]
        }
      ],
      "source": [
        "%%writefile printInverse.c\n",
        "#include <stdio.h>\n",
        "\n",
        "int main() {\n",
        "  char a, b, c;\n",
        "  \n",
        "  printf(\"문자를 입력하시오: \");\n",
        "  scanf(\"%c %c %c\", &c, &b, &a);\n",
        "\n",
        "  printf(\"문자: %c %c %c\", a, b, c);\n",
        "}"
      ]
    },
    {
      "cell_type": "code",
      "execution_count": null,
      "metadata": {
        "colab": {
          "base_uri": "https://localhost:8080/"
        },
        "id": "UF_1aokUj78x",
        "outputId": "9a557006-799b-4b06-feb4-b63f16183a43"
      },
      "outputs": [
        {
          "name": "stdout",
          "output_type": "stream",
          "text": [
            "문자를 입력하시오: a b c\n",
            "문자: c b a"
          ]
        },
        {
          "data": {
            "text/plain": []
          },
          "execution_count": 28,
          "metadata": {},
          "output_type": "execute_result"
        }
      ],
      "source": [
        "%%shell\n",
        "gcc printInverse.c\n",
        "./a.out"
      ]
    },
    {
      "cell_type": "code",
      "execution_count": null,
      "metadata": {
        "colab": {
          "base_uri": "https://localhost:8080/"
        },
        "id": "Z9dUjyvWkAbK",
        "outputId": "871f0ed7-a423-44e2-cba8-a642e6fd7e80"
      },
      "outputs": [
        {
          "name": "stdout",
          "output_type": "stream",
          "text": [
            "Overwriting sizeofType.c\n"
          ]
        }
      ],
      "source": [
        "%%writefile sizeofType.c\n",
        "#include <stdio.h>\n",
        "\n",
        "int main() {\n",
        "  printf(\"char형의 크기는 %ld바이트입니다.\\n\", sizeof(char));\n",
        "  printf(\"short형의 크기는 %ld바이트입니다.\\n\", sizeof(short));\n",
        "  printf(\"int형의 크기는 %ld바이트입니다.\\n\", sizeof(int));\n",
        "  printf(\"long형의 크기는 %ld바이트입니다.\\n\", sizeof(long));\n",
        "  printf(\"long long형의 크기는 %ld바이트입니다.\\n\", sizeof(long long));\n",
        "  printf(\"float형의 크기는 %ld바이트입니다.\\n\", sizeof(float));\n",
        "  printf(\"double형의 크기는 %ld바이트입니다.\\n\", sizeof(double));\n",
        "  printf(\"long double형의 크기는 %ld바이트입니다.\\n\", sizeof(long double));\n",
        "}"
      ]
    },
    {
      "cell_type": "code",
      "execution_count": null,
      "metadata": {
        "colab": {
          "base_uri": "https://localhost:8080/"
        },
        "id": "RmBXyhRqkiIO",
        "outputId": "71cfd6a0-5f06-44f2-df20-efe230d06aad"
      },
      "outputs": [
        {
          "name": "stdout",
          "output_type": "stream",
          "text": [
            "char형의 크기는 1바이트입니다.\n",
            "short형의 크기는 2바이트입니다.\n",
            "int형의 크기는 4바이트입니다.\n",
            "long형의 크기는 8바이트입니다.\n",
            "long long형의 크기는 8바이트입니다.\n",
            "float형의 크기는 4바이트입니다.\n",
            "double형의 크기는 8바이트입니다.\n",
            "long double형의 크기는 16바이트입니다.\n"
          ]
        },
        {
          "data": {
            "text/plain": []
          },
          "execution_count": 37,
          "metadata": {},
          "output_type": "execute_result"
        }
      ],
      "source": [
        "%%shell\n",
        "gcc sizeofType.c\n",
        "./a.out"
      ]
    },
    {
      "cell_type": "code",
      "execution_count": null,
      "metadata": {
        "colab": {
          "base_uri": "https://localhost:8080/"
        },
        "id": "Luv5iLUvlPtA",
        "outputId": "6ea98821-f05c-48df-ff66-3f364bef45dc"
      },
      "outputs": [
        {
          "name": "stdout",
          "output_type": "stream",
          "text": [
            "Overwriting speed.c\n"
          ]
        }
      ],
      "source": [
        "%%writefile speed.c\n",
        "#include <stdio.h>\n",
        "\n",
        "int main() {\n",
        "  double distance, time, min, sec;\n",
        "\n",
        "  printf(\"거리를 미터로 입력하시오: \");\n",
        "  scanf(\"%lf\", &distance);\n",
        "  printf(\"시간을 입력하시오: \");\n",
        "  scanf(\"%lf\", &time);\n",
        "  printf(\"분을 입력하시오: \");\n",
        "  scanf(\"%lf\", &min);\n",
        "  printf(\"초를 입력하시오: \");\n",
        "  scanf(\"%lf\", &sec);\n",
        "\n",
        "  double totalTime = time + (min * (1.0/60.0)) + (sec * (1.0/3600.0));\n",
        "  double distanceKm = distance / 1000;\n",
        "  printf(\"속도: %lf\\n\", distanceKm / totalTime);\n",
        "}"
      ]
    },
    {
      "cell_type": "code",
      "execution_count": 2,
      "metadata": {
        "colab": {
          "base_uri": "https://localhost:8080/"
        },
        "id": "g_O2XG9UmVxY",
        "outputId": "05cd421a-9a5a-48f8-f746-4b03980a91b6"
      },
      "outputs": [
        {
          "output_type": "stream",
          "name": "stdout",
          "text": [
            "거리를 미터로 입력하시오: 5000\n",
            "시간을 입력하시오: 1\n",
            "분을 입력하시오: 2\n",
            "초를 입력하시오: 10\n",
            "속도: 4.825737\n"
          ]
        },
        {
          "output_type": "execute_result",
          "data": {
            "text/plain": []
          },
          "metadata": {},
          "execution_count": 2
        }
      ],
      "source": [
        "%%shell\n",
        "gcc speed.c\n",
        "./a.out"
      ]
    }
  ],
  "metadata": {
    "colab": {
      "provenance": []
    },
    "kernelspec": {
      "display_name": "Python 3",
      "name": "python3"
    },
    "language_info": {
      "name": "python"
    }
  },
  "nbformat": 4,
  "nbformat_minor": 0
}