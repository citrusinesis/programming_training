{
  "nbformat": 4,
  "nbformat_minor": 0,
  "metadata": {
    "colab": {
      "provenance": []
    },
    "kernelspec": {
      "name": "python3",
      "display_name": "Python 3"
    },
    "language_info": {
      "name": "python"
    }
  },
  "cells": [
    {
      "cell_type": "code",
      "execution_count": 3,
      "metadata": {
        "colab": {
          "base_uri": "https://localhost:8080/"
        },
        "id": "zcfAHImdhb_j",
        "outputId": "c081a83f-5e8c-41de-df8e-ec3764e69287"
      },
      "outputs": [
        {
          "output_type": "stream",
          "name": "stdout",
          "text": [
            "Overwriting overflow.c\n"
          ]
        }
      ],
      "source": [
        "%%writefile overflow.c\n",
        "#include <stdio.h>\n",
        "\n",
        "int main() {\n",
        "  short s_money = 32767;\n",
        "\n",
        "  s_money = s_money + 1;\n",
        "  printf(\"s_money = %d\\n\", s_money);\n",
        "\n",
        "  return 0;\n",
        "}"
      ]
    },
    {
      "cell_type": "code",
      "source": [
        "%%shell\n",
        "gcc overflow.c\n",
        "./a.out"
      ],
      "metadata": {
        "colab": {
          "base_uri": "https://localhost:8080/"
        },
        "id": "SjC63wpou2XS",
        "outputId": "fa4f8b32-f733-403a-9b5e-2a85271c474a"
      },
      "execution_count": 4,
      "outputs": [
        {
          "output_type": "stream",
          "name": "stdout",
          "text": [
            "s_money = -32768\n"
          ]
        },
        {
          "output_type": "execute_result",
          "data": {
            "text/plain": []
          },
          "metadata": {},
          "execution_count": 4
        }
      ]
    },
    {
      "cell_type": "code",
      "source": [
        "%%writefile hexa.c\n",
        "#include <stdio.h>\n",
        "\n",
        "int main() {\n",
        "  printf(\"%d %#x %#o\\n\", 128, 128, 128);\n",
        "}"
      ],
      "metadata": {
        "colab": {
          "base_uri": "https://localhost:8080/"
        },
        "id": "A4VSYlQAvKFl",
        "outputId": "1c0a2e64-1819-4e99-adce-91a1005c6e28"
      },
      "execution_count": 5,
      "outputs": [
        {
          "output_type": "stream",
          "name": "stdout",
          "text": [
            "Writing hexa.c\n"
          ]
        }
      ]
    },
    {
      "cell_type": "code",
      "source": [
        "%%shell\n",
        "gcc hexa.c\n",
        "./a.out"
      ],
      "metadata": {
        "colab": {
          "base_uri": "https://localhost:8080/"
        },
        "id": "W91CX-WmvWbO",
        "outputId": "be13d697-2015-41e4-c3ae-e34b3a888073"
      },
      "execution_count": 6,
      "outputs": [
        {
          "output_type": "stream",
          "name": "stdout",
          "text": [
            "128 0x80 0200\n"
          ]
        },
        {
          "output_type": "execute_result",
          "data": {
            "text/plain": []
          },
          "metadata": {},
          "execution_count": 6
        }
      ]
    },
    {
      "cell_type": "code",
      "source": [
        "%%writefile radius.c\n",
        "#include <stdio.h>\n",
        "\n",
        "int main() {\n",
        "  double radius;\n",
        "  printf(\"반지름 값을 입력하시오: \");\n",
        "  scanf(\"%lf\", &radius);\n",
        "}"
      ],
      "metadata": {
        "colab": {
          "base_uri": "https://localhost:8080/"
        },
        "id": "prvESvx1xAeu",
        "outputId": "2b09f9b7-b920-4961-b147-1f8c55dcfed0"
      },
      "execution_count": 9,
      "outputs": [
        {
          "output_type": "stream",
          "name": "stdout",
          "text": [
            "Overwriting radius.c\n"
          ]
        }
      ]
    },
    {
      "cell_type": "code",
      "source": [
        "%%shell\n",
        "gcc radius.c\n",
        "./a.out"
      ],
      "metadata": {
        "colab": {
          "base_uri": "https://localhost:8080/"
        },
        "id": "bXknqdecxNH9",
        "outputId": "fd95540f-ce12-4df9-b271-addae369a630"
      },
      "execution_count": 10,
      "outputs": [
        {
          "output_type": "stream",
          "name": "stdout",
          "text": [
            "반지름 값을 입력하시오: 10.3\n"
          ]
        },
        {
          "output_type": "execute_result",
          "data": {
            "text/plain": []
          },
          "metadata": {},
          "execution_count": 10
        }
      ]
    },
    {
      "cell_type": "code",
      "source": [
        "%%writefile fd.c\n",
        "#include <stdio.h>\n",
        "\n",
        "int main() {\n",
        "  float fvalue = 1234567890.12345678901234567890;\n",
        "  double dvalue = 1234567890.12345678901234567890;\n",
        "\n",
        "  printf(\"float형 변수 = %30.25f\\n\", fvalue);\n",
        "  printf(\"double형 변수 = %30.25lf\\n\", dvalue);\n",
        "}"
      ],
      "metadata": {
        "colab": {
          "base_uri": "https://localhost:8080/"
        },
        "id": "VcYy501Wxe8m",
        "outputId": "c7aa66d6-0450-49f8-8795-ed17b5abea1b"
      },
      "execution_count": 11,
      "outputs": [
        {
          "output_type": "stream",
          "name": "stdout",
          "text": [
            "Writing fd.c\n"
          ]
        }
      ]
    },
    {
      "cell_type": "code",
      "source": [
        "%%shell\n",
        "gcc fd.c\n",
        "./a.out"
      ],
      "metadata": {
        "colab": {
          "base_uri": "https://localhost:8080/"
        },
        "id": "PnWE_Fxfx0eW",
        "outputId": "82ba22d8-0ca7-44fd-d6d7-aa1fb978ac54"
      },
      "execution_count": 12,
      "outputs": [
        {
          "output_type": "stream",
          "name": "stdout",
          "text": [
            "float형 변수 = 1234567936.0000000000000000000000000\n",
            "double형 변수 = 1234567890.1234567165374755859375000\n"
          ]
        },
        {
          "output_type": "execute_result",
          "data": {
            "text/plain": []
          },
          "metadata": {},
          "execution_count": 12
        }
      ]
    },
    {
      "cell_type": "code",
      "source": [
        "%%writefile fint.c\n",
        "#include <stdio.h>\n",
        "\n",
        "int main() {\n",
        "  float f = 12.7;\n",
        "  int a = f;\n",
        "\n",
        "  printf(\"f = %f\\n\", f);\n",
        "  printf(\"a = %d\\n\", a);\n",
        "  printf(\"a = %f\\n\", a);\n",
        "}"
      ],
      "metadata": {
        "colab": {
          "base_uri": "https://localhost:8080/"
        },
        "id": "_DxgLq5hx3_E",
        "outputId": "1ac8c687-2b10-4200-c75e-9b2318f7846e"
      },
      "execution_count": 16,
      "outputs": [
        {
          "output_type": "stream",
          "name": "stdout",
          "text": [
            "Overwriting fint.c\n"
          ]
        }
      ]
    },
    {
      "cell_type": "code",
      "source": [
        "%%shell\n",
        "gcc fint.c -Wformat=0\n",
        "./a.out"
      ],
      "metadata": {
        "colab": {
          "base_uri": "https://localhost:8080/"
        },
        "id": "P1YELlO9yAEn",
        "outputId": "20d14d35-4923-4aa3-e731-0f9a7901a8ab"
      },
      "execution_count": 24,
      "outputs": [
        {
          "output_type": "stream",
          "name": "stdout",
          "text": [
            "f = 12.700000\n",
            "a = 12\n",
            "a = 12.700000\n"
          ]
        },
        {
          "output_type": "execute_result",
          "data": {
            "text/plain": []
          },
          "metadata": {},
          "execution_count": 24
        }
      ]
    },
    {
      "cell_type": "code",
      "source": [
        "%%writefile over_under.c\n",
        "#include <stdio.h>\n",
        "\n",
        "int main() {\n",
        "  float x = 1e39;\n",
        "  float y = 1.23456e-46;\n",
        "\n",
        "  printf(\"x = %e\\n\", x);\n",
        "  printf(\"y = %e\\n\", y);\n",
        "}"
      ],
      "metadata": {
        "colab": {
          "base_uri": "https://localhost:8080/"
        },
        "id": "CoqOIb5yzHTc",
        "outputId": "a2293c82-edc4-42d0-8d67-cbf9b5f0c5dc"
      },
      "execution_count": 25,
      "outputs": [
        {
          "output_type": "stream",
          "name": "stdout",
          "text": [
            "Writing over_under.c\n"
          ]
        }
      ]
    },
    {
      "cell_type": "code",
      "source": [
        "%%shell\n",
        "gcc over_under.c\n",
        "./a.out"
      ],
      "metadata": {
        "colab": {
          "base_uri": "https://localhost:8080/"
        },
        "id": "Pgl05VWKzYTw",
        "outputId": "c0978b0a-3f7d-4cdb-c094-9a17c7b3039f"
      },
      "execution_count": 26,
      "outputs": [
        {
          "output_type": "stream",
          "name": "stdout",
          "text": [
            "x = inf\n",
            "y = 0.000000e+00\n"
          ]
        },
        {
          "output_type": "execute_result",
          "data": {
            "text/plain": []
          },
          "metadata": {},
          "execution_count": 26
        }
      ]
    },
    {
      "cell_type": "code",
      "source": [
        "%%writefile uf.c\n",
        "#include <stdio.h>\n",
        "\n",
        "int main() {\n",
        "  float value = 0.1;\n",
        "  printf(\"%.20f\\n\", value);\n",
        "}"
      ],
      "metadata": {
        "colab": {
          "base_uri": "https://localhost:8080/"
        },
        "id": "TL383Qd9zngV",
        "outputId": "e9c846f2-0a34-400c-eedd-9327c0f17b90"
      },
      "execution_count": 28,
      "outputs": [
        {
          "output_type": "stream",
          "name": "stdout",
          "text": [
            "Overwriting uf.c\n"
          ]
        }
      ]
    },
    {
      "cell_type": "code",
      "source": [
        "%%shell\n",
        "gcc uf.c\n",
        "./a.out"
      ],
      "metadata": {
        "colab": {
          "base_uri": "https://localhost:8080/"
        },
        "id": "hhRQ_U82zx2_",
        "outputId": "335acd5a-2a1d-4456-89d6-ba9292d4be49"
      },
      "execution_count": 29,
      "outputs": [
        {
          "output_type": "stream",
          "name": "stdout",
          "text": [
            "0.10000000149011611938\n"
          ]
        },
        {
          "output_type": "execute_result",
          "data": {
            "text/plain": []
          },
          "metadata": {},
          "execution_count": 29
        }
      ]
    },
    {
      "cell_type": "code",
      "source": [
        "%%writefile maxmin.c\n",
        "#include <stdio.h>\n",
        "#include <float.h>\n",
        "\n",
        "int main() {\n",
        "  printf(\"float min: %f\\nfloat max: %f\\n\", FLT_MIN, FLT_MAX);\n",
        "  printf(\"double min: %lf\\ndouble max: %lf\\n\", DBL_MIN, DBL_MAX);\n",
        "  printf(\"long double min: %Lf\\nlong double max: %Lf\\n\", LDBL_MIN, LDBL_MAX);\n",
        "}"
      ],
      "metadata": {
        "colab": {
          "base_uri": "https://localhost:8080/"
        },
        "id": "be5PfyvFz8Xb",
        "outputId": "17b0a242-94a7-4fd2-96b7-c0bb2432200c"
      },
      "execution_count": 34,
      "outputs": [
        {
          "output_type": "stream",
          "name": "stdout",
          "text": [
            "Overwriting maxmin.c\n"
          ]
        }
      ]
    },
    {
      "cell_type": "code",
      "source": [
        "%%shell\n",
        "gcc maxmin.c\n",
        "./a.out"
      ],
      "metadata": {
        "colab": {
          "base_uri": "https://localhost:8080/"
        },
        "id": "Mh0oc1zF0cXl",
        "outputId": "384ae3a9-7b47-4ec6-c331-389737865aee"
      },
      "execution_count": 35,
      "outputs": [
        {
          "output_type": "stream",
          "name": "stdout",
          "text": [
            "float min: 0.000000\n",
            "float max: 340282346638528859811704183484516925440.000000\n",
            "double min: 0.000000\n",
            "double max: 179769313486231570814527423731704356798070567525844996598917476803157260780028538760589558632766878171540458953514382464234321326889464182768467546703537516986049910576551282076245490090389328944075868508455133942304583236903222948165808559332123348274797826204144723168738177180919299881250404026184124858368.000000\n",
            "long double min: 0.000000\n",
            "long double max: 1189731495357231765021263853030970205169063322294624200440323733891737005522970722616410290336528882853545697807495577314427443153670288434198125573853743678673593200706973263201915918282961524365529510646791086614311790632169778838896134786560600399148753433211454911160088679845154866512852340149773037600009125479393966223151383622417838542743917838138717805889487540575168226347659235576974805113725649020884855222494791399377585026011773549180099796226026859508558883608159846900235645132346594476384939859276456284579661772930407806609229102715046085388087959327781622986827547830768080040150694942303411728957777100335714010559775242124057347007386251660110828379119623008469277200965153500208474470792443848545912886723000619085126472111951361467527633519562927597957250278002980795904193139603021470997035276467445530922022679656280991498232083329641241038509239184734786121921697210543484287048353408113042573002216421348917347174234800714880751002064390517234247656004721768096486107994943415703476320643558624207443504424380566136017608837478165389027809576975977286860071487028287955567141404632615832623602762896316173978484254486860609948270867968048078702511858930838546584223040908805996294594586201903766048446790926002225410530775901065760671347200125846406957030257138960983757998926954553052368560758683179223113639519468850880771872104705203957587480013143131444254943919940175753169339392366881856189129931729104252921236835159922322050998001677102784035360140829296398115122877768135706045789343535451696539561254048846447169786893211671087229088082778350518228857646062218739702851655083720992349483334435228984751232753726636066213902281264706234075352071724058665079518217303463782631353393706774901950197841690441824738063162828586857741432581165364040218402724913393320949219498422442730427019873044536620350262386957804682003601447291997123095530057206141866974852846856186514832715974481203121946751686379343096189615107330065552421485195201762858595091051839472502863871632494167613804996319791441870254302706758495192008837915169401581740046711477877201459644461175204059453504764721807975761111720846273639279600339670470037613374509553184150073796412605047923251661354841291884211340823015473304754067072818763503617332908005951896325207071673904547777129682265206225651439919376804400292380903112437912614776255964694221981375146967079446870358004392507659451618379811859392049544036114915310782251072691486979809240946772142727012404377187409216756613634938900451232351668146089322400697993176017805338191849981933008410985993938760292601390911414526003720284872132411955424282101831204216104467404621635336900583664606591156298764745525068145003932941404131495400677602951005962253022823003631473824681059648442441324864573137437595096416168048024129351876204668135636877532814675538798871771836512893947195335061885003267607354388673368002074387849657014576090349857571243045102038730494854256702479339322809110526041538528994849203991091946129912491633289917998094380337879522093131466946149705939664152375949285890960489916121944989986384837022486672249148924678410206183364627416969576307632480235587975245253737035433882960862753427740016333434055083537048507374544819754722228975281083020898682633020285259923084168054539687911418297629988964576482765287504562854924265165217750799516259669229114977788962356670956627138482018191348321687995863652637620978285070099337294396784639879024914514222742527006363942327998483976739987154418554201562244154926653014515504685489258620276085761837129763358761215382565129633538141663949516556000264159186554850057052611431952919918807954522394649627635630178580896692226406235382898535867595990647008385687123810329591926494846250768992258419305480763620215089022149220528069842018350840586938493815498909445461977893029113576516775406232278298314033473276603952231603422824717528181818844304880921321933550869873395861276073670866652375555675803171490108477320096424318780070008797346032906278943553743564448851907191616455141155761939399690767415156402826543664026760095087523945507341556135867933066031744720924446513532366647649735400851967040771103640538150073486891798364049570606189535005089840913826869535090066783324472578712196604415284924840041850932811908963634175739897166596000759487800619164094854338758520657116541072260996288150123144377944008749301944744330784388995701842710004808305012177123560622895076269042856800047718893158089358515593863176652948089031267747029662545110861548958395087796755464137944895960527975209874813839762578592105756284401759349324162148339565350189196811389091843795734703269406342890087805846940352453479398080674273236297887100867175802531561302356064878709259865288416350972529537091114317204887747405539054009425375424119317944175137064689643861517718849867010341532542385911089624710885385808688837777258648564145934262121086647588489260031762345960769508849149662444156604419552086811989770240.000000\n"
          ]
        },
        {
          "output_type": "execute_result",
          "data": {
            "text/plain": []
          },
          "metadata": {},
          "execution_count": 35
        }
      ]
    },
    {
      "cell_type": "code",
      "source": [
        "%%writefile ascii.c\n",
        "#include <stdio.h>\n",
        "\n",
        "int main() {\n",
        "  char c;\n",
        "  c = 'A';\n",
        "  printf(\"A의 아스키코드 = %d\\n\", c);\n",
        "\n",
        "  printf(\"문자를 입력하시오: \");\n",
        "  c = getchar();\n",
        "\n",
        "  printf(\"%c의 \\\"아스키\\\"코드 = %d\\n\", c, c);\n",
        "}"
      ],
      "metadata": {
        "colab": {
          "base_uri": "https://localhost:8080/"
        },
        "id": "bcD8eZh205Do",
        "outputId": "1641be64-f37e-4999-8f03-77dc4e7daab4"
      },
      "execution_count": 1,
      "outputs": [
        {
          "output_type": "stream",
          "name": "stdout",
          "text": [
            "Writing ascii.c\n"
          ]
        }
      ]
    },
    {
      "cell_type": "code",
      "source": [
        "%%shell\n",
        "gcc ascii.c\n",
        "./a.out"
      ],
      "metadata": {
        "colab": {
          "base_uri": "https://localhost:8080/"
        },
        "id": "LjEtiCRq1Kzc",
        "outputId": "5e6d635a-5f95-4394-f97d-de5b57218a87"
      },
      "execution_count": 2,
      "outputs": [
        {
          "output_type": "stream",
          "name": "stdout",
          "text": [
            "A의 아스키코드 = 65\n",
            "문자를 입력하시오: W\n",
            "W의 \"아스키\"코드 = 87\n"
          ]
        },
        {
          "output_type": "execute_result",
          "data": {
            "text/plain": []
          },
          "metadata": {},
          "execution_count": 2
        }
      ]
    },
    {
      "cell_type": "code",
      "source": [
        "%%writefile idpw.c\n",
        "#include <stdio.h>\n",
        "\n",
        "int main() {\n",
        "  int id, pw;\n",
        "  \n",
        "  printf(\"아이디와 패스워드를 4개의 숫자로 입력하세요:\\n\");\n",
        "  printf(\"id: ____\\b\\b\\b\\b\");\n",
        "  scanf(\"%d\", &id);\n",
        "\n",
        "  printf(\"pw: ____\\b\\b\\b\\b\");\n",
        "  scanf(\"%d\", &pw);\n",
        "\n",
        "  printf(\"\\a입력된 아이디는 \\\"%d\\\"이고 패스워드는 \\\"%d\\\"입니다.\\n\", id, pw);\n",
        "}"
      ],
      "metadata": {
        "colab": {
          "base_uri": "https://localhost:8080/"
        },
        "id": "Q-dDIjS1Fbs6",
        "outputId": "25d1f05a-8786-4f06-c5b0-b6eaecce461f"
      },
      "execution_count": 3,
      "outputs": [
        {
          "output_type": "stream",
          "name": "stdout",
          "text": [
            "Writing idpw.c\n"
          ]
        }
      ]
    },
    {
      "cell_type": "code",
      "source": [
        "%%shell\n",
        "gcc idpw.c\n",
        "./a.out"
      ],
      "metadata": {
        "colab": {
          "base_uri": "https://localhost:8080/"
        },
        "id": "9mRHANgAGF8L",
        "outputId": "c807d826-9a5a-4a6b-dfa2-265b9598f5b7"
      },
      "execution_count": 4,
      "outputs": [
        {
          "output_type": "stream",
          "name": "stdout",
          "text": [
            "아이디와 패스워드를 4개의 숫자로 입력하세요:\n",
            "id: ____\b\b\b\b1234\n",
            "pw: ____\b\b\b\b1234\n",
            "\u0007입력된 아이디는 \"1234\"이고 패스워드는 \"1234\"입니다.\n"
          ]
        },
        {
          "output_type": "execute_result",
          "data": {
            "text/plain": []
          },
          "metadata": {},
          "execution_count": 4
        }
      ]
    }
  ]
}