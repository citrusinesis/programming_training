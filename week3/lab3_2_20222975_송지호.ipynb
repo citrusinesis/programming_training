{
  "nbformat": 4,
  "nbformat_minor": 0,
  "metadata": {
    "colab": {
      "provenance": [],
      "collapsed_sections": []
    },
    "kernelspec": {
      "name": "python3",
      "display_name": "Python 3"
    },
    "language_info": {
      "name": "python"
    }
  },
  "cells": [
    {
      "cell_type": "code",
      "execution_count": 1,
      "metadata": {
        "colab": {
          "base_uri": "https://localhost:8080/"
        },
        "id": "5sTI6RO6HwVM",
        "outputId": "3cf8b12b-f7c6-4174-d68a-edb744c279e5"
      },
      "outputs": [
        {
          "output_type": "stream",
          "name": "stdout",
          "text": [
            "Writing wonToDollar.c\n"
          ]
        }
      ],
      "source": [
        "%%writefile wonToDollar.c\n",
        "#include <stdio.h>\n",
        "#define EXCHRATE 1395\n",
        "// 2022-09-22 기준 달러당 1394.94원\n",
        "\n",
        "int main() {\n",
        "  int amount;\n",
        "  \n",
        "  printf(\"달러화 금액을 입력하시오: \");\n",
        "  scanf(\"%d\", &amount);\n",
        "\n",
        "  printf(\"달러화 %d$는 %d₩입니다.\", amount, amount*EXCHRATE);\n",
        "}"
      ]
    },
    {
      "cell_type": "code",
      "source": [
        "%%shell\n",
        "gcc wonToDollar.c\n",
        "./a.out"
      ],
      "metadata": {
        "colab": {
          "base_uri": "https://localhost:8080/"
        },
        "id": "RouKVXrpIoa5",
        "outputId": "fb363dd7-22a3-48a6-bb27-9248fd88cf50"
      },
      "execution_count": 2,
      "outputs": [
        {
          "output_type": "stream",
          "name": "stdout",
          "text": [
            "달러화 금액을 입력하시오: 1000\n",
            "달러화 1000$는 1395000₩입니다."
          ]
        },
        {
          "output_type": "execute_result",
          "data": {
            "text/plain": []
          },
          "metadata": {},
          "execution_count": 2
        }
      ]
    },
    {
      "cell_type": "code",
      "source": [
        "%%writefile asset.c\n",
        "#include <stdio.h>\n",
        "\n",
        "int main() {\n",
        "  int savings;\n",
        "\n",
        "  printf(\"매달 저축 금액을 입력하시오: \");\n",
        "  scanf(\"%d\", &savings);\n",
        "\n",
        "  printf(\"30년 후의 재산 = %d원\", savings * 12 * 30);\n",
        "}"
      ],
      "metadata": {
        "colab": {
          "base_uri": "https://localhost:8080/"
        },
        "id": "W5YAiC4j68Ba",
        "outputId": "a0e93f7f-4cad-4904-f789-bf238e6b839d"
      },
      "execution_count": 8,
      "outputs": [
        {
          "output_type": "stream",
          "name": "stdout",
          "text": [
            "Overwriting asset.c\n"
          ]
        }
      ]
    },
    {
      "cell_type": "code",
      "source": [
        "%%shell\n",
        "gcc asset.c\n",
        "./a.out"
      ],
      "metadata": {
        "colab": {
          "base_uri": "https://localhost:8080/"
        },
        "id": "vsgG9o1j7Zmc",
        "outputId": "3624f7bf-5145-4b66-b4b6-30557eca445e"
      },
      "execution_count": 6,
      "outputs": [
        {
          "output_type": "stream",
          "name": "stdout",
          "text": [
            "매달 저축 금액을 입력하시오: 5000000\n",
            "30년 후의 재산 = 1800000000원"
          ]
        },
        {
          "output_type": "execute_result",
          "data": {
            "text/plain": []
          },
          "metadata": {},
          "execution_count": 6
        }
      ]
    },
    {
      "cell_type": "code",
      "source": [
        "%%writefile asset_long.c\n",
        "#include <stdio.h>\n",
        "\n",
        "int main() {\n",
        "  long long int savings;\n",
        "\n",
        "  printf(\"매달 저축 금액을 입력하시오: \");\n",
        "  scanf(\"%lld\", &savings);\n",
        "\n",
        "  printf(\"30년 후의 재산 = %lld원\", savings * 12 * 30);\n",
        "}"
      ],
      "metadata": {
        "colab": {
          "base_uri": "https://localhost:8080/"
        },
        "id": "9-xamqTT8fLt",
        "outputId": "21e943a2-6af3-4111-9f45-233e96b57f77"
      },
      "execution_count": 12,
      "outputs": [
        {
          "output_type": "stream",
          "name": "stdout",
          "text": [
            "Overwriting asset_long.c\n"
          ]
        }
      ]
    },
    {
      "cell_type": "code",
      "source": [
        "%%shell\n",
        "gcc asset_long.c\n",
        "./a.out"
      ],
      "metadata": {
        "colab": {
          "base_uri": "https://localhost:8080/"
        },
        "id": "ezvM4ttN8nU-",
        "outputId": "0f1ad490-4d6a-4b7b-a939-4ea8ee953d13"
      },
      "execution_count": 13,
      "outputs": [
        {
          "output_type": "stream",
          "name": "stdout",
          "text": [
            "매달 저축 금액을 입력하시오: 10000000\n",
            "30년 후의 재산 = 3600000000원"
          ]
        },
        {
          "output_type": "execute_result",
          "data": {
            "text/plain": []
          },
          "metadata": {},
          "execution_count": 13
        }
      ]
    },
    {
      "cell_type": "code",
      "source": [
        "%%writefile swap.c\n",
        "#include <stdio.h>\n",
        "\n",
        "int main() {\n",
        "  int a = 100, b = 200, tmp;\n",
        "  printf(\"Before Swap:\\ta=%d, b=%d\\n\", a, b);\n",
        "\n",
        "  tmp = a;\n",
        "  a = b;\n",
        "  b = tmp;\n",
        "  printf(\"After Swap:\\ta=%d, b=%d\\n\", a, b);\n",
        "}"
      ],
      "metadata": {
        "colab": {
          "base_uri": "https://localhost:8080/"
        },
        "id": "fHLavVQyB57E",
        "outputId": "adb4339c-76b8-4fae-8a85-590a42f82a4b"
      },
      "execution_count": 22,
      "outputs": [
        {
          "output_type": "stream",
          "name": "stdout",
          "text": [
            "Overwriting swap.c\n"
          ]
        }
      ]
    },
    {
      "cell_type": "code",
      "source": [
        "%%shell\n",
        "gcc swap.c\n",
        "./a.out"
      ],
      "metadata": {
        "colab": {
          "base_uri": "https://localhost:8080/"
        },
        "id": "Rv3FmYxTCYn8",
        "outputId": "11198a1d-81d6-4627-bb0b-40b74510ddf0"
      },
      "execution_count": 23,
      "outputs": [
        {
          "output_type": "stream",
          "name": "stdout",
          "text": [
            "Before Swap:\ta=100, b=200\n",
            "After Swap:\ta=200, b=100\n"
          ]
        },
        {
          "output_type": "execute_result",
          "data": {
            "text/plain": []
          },
          "metadata": {},
          "execution_count": 23
        }
      ]
    },
    {
      "cell_type": "code",
      "source": [
        "%%writefile hexa.c\n",
        "#include <stdio.h>\n",
        "\n",
        "int main() {\n",
        "  int instruction[8] = {1, 0, };\n",
        "  int opcode = 0, multiplyer = 1;\n",
        "  \n",
        "  int arrSize = sizeof(instruction) / sizeof(int);\n",
        "  \n",
        "  for (int i = arrSize - 1; i >= 0; i--) {\n",
        "    opcode += multiplyer * instruction[i];\n",
        "    multiplyer *= 2;\n",
        "  }\n",
        "\n",
        "  printf(\"Instruction = \");\n",
        "  for (int i = 0; i < arrSize; i++) {\n",
        "    printf(\"%d\", instruction[i]);\n",
        "  }\n",
        "  printf(\"\\nOpcode = 0x%x\\n\", opcode);\n",
        "}"
      ],
      "metadata": {
        "colab": {
          "base_uri": "https://localhost:8080/"
        },
        "id": "r-0lAR_nDKgj",
        "outputId": "fa54a6b3-911f-4c58-a91b-f0d9f419085d"
      },
      "execution_count": 45,
      "outputs": [
        {
          "output_type": "stream",
          "name": "stdout",
          "text": [
            "Overwriting hexa.c\n"
          ]
        }
      ]
    },
    {
      "cell_type": "code",
      "source": [
        "%%shell\n",
        "gcc hexa.c\n",
        "./a.out"
      ],
      "metadata": {
        "colab": {
          "base_uri": "https://localhost:8080/"
        },
        "id": "dKjVR7ukE7HX",
        "outputId": "256f59f2-c634-4f56-a2ec-881c96ffa3b3"
      },
      "execution_count": 46,
      "outputs": [
        {
          "output_type": "stream",
          "name": "stdout",
          "text": [
            "Instruction = 10000000\n",
            "Opcode = 0x80\n"
          ]
        },
        {
          "output_type": "execute_result",
          "data": {
            "text/plain": []
          },
          "metadata": {},
          "execution_count": 46
        }
      ]
    },
    {
      "cell_type": "code",
      "source": [
        "%%writefile speedOfLight.c\n",
        "#include <stdio.h>\n",
        "\n",
        "int main() {\n",
        "  double speed = 300000;\n",
        "  double distance = 149600000;\n",
        "\n",
        "  printf(\"빛의 속도는 %.6lfkm/s\\n\", speed);\n",
        "  printf(\"태양과 지구와의 거리 %.6lfkm\\n\", distance);\n",
        "  printf(\"도달 시간은 %.6lf분\\n\", distance / speed / 60);\n",
        "}"
      ],
      "metadata": {
        "colab": {
          "base_uri": "https://localhost:8080/"
        },
        "id": "B8KFQf2ZHoXc",
        "outputId": "64c57854-cbaa-4b3a-b0fc-d60a86ecc5e7"
      },
      "execution_count": 49,
      "outputs": [
        {
          "output_type": "stream",
          "name": "stdout",
          "text": [
            "Overwriting speedOfLight.c\n"
          ]
        }
      ]
    },
    {
      "cell_type": "code",
      "source": [
        "%%shell\n",
        "gcc speedOfLight.c\n",
        "./a.out"
      ],
      "metadata": {
        "colab": {
          "base_uri": "https://localhost:8080/"
        },
        "id": "F9kYLdUVIYgR",
        "outputId": "90ae5e92-391a-4bc9-aa4d-77dea0ae4eb9"
      },
      "execution_count": 50,
      "outputs": [
        {
          "output_type": "stream",
          "name": "stdout",
          "text": [
            "빛의 속도는 300000.000000km/s\n",
            "태양과 지구와의 거리 149600000.000000km\n",
            "도달 시간은 8.311111분\n"
          ]
        },
        {
          "output_type": "execute_result",
          "data": {
            "text/plain": []
          },
          "metadata": {},
          "execution_count": 50
        }
      ]
    },
    {
      "cell_type": "code",
      "source": [
        "%%writefile tempFormat.c\n",
        "#include <stdio.h>\n",
        "\n",
        "int main() {\n",
        "  double celsius, fahrenheit;\n",
        "\n",
        "  printf(\"화씨 온도 = \");\n",
        "  scanf(\"%lf\", &fahrenheit);\n",
        "\n",
        "  celsius = (fahrenheit - 32) * 5 / 9;\n",
        "  printf(\"섭씨 온도 = %lf\\n\", celsius);\n",
        "}"
      ],
      "metadata": {
        "colab": {
          "base_uri": "https://localhost:8080/"
        },
        "id": "2R1nA7XvIn3K",
        "outputId": "07965b53-0178-4c68-fb07-25269f006bb9"
      },
      "execution_count": 51,
      "outputs": [
        {
          "output_type": "stream",
          "name": "stdout",
          "text": [
            "Writing tempFormat.c\n"
          ]
        }
      ]
    },
    {
      "cell_type": "code",
      "source": [
        "%%shell\n",
        "gcc tempFormat.c\n",
        "./a.out"
      ],
      "metadata": {
        "colab": {
          "base_uri": "https://localhost:8080/"
        },
        "id": "Qg9sx6yEJ6Dy",
        "outputId": "dba98bd2-421a-44c2-cfe6-818398f62f2f"
      },
      "execution_count": 52,
      "outputs": [
        {
          "output_type": "stream",
          "name": "stdout",
          "text": [
            "화씨 온도 = 100\n",
            "섭씨 온도 = 37.777778\n"
          ]
        },
        {
          "output_type": "execute_result",
          "data": {
            "text/plain": []
          },
          "metadata": {},
          "execution_count": 52
        }
      ]
    },
    {
      "cell_type": "code",
      "source": [
        "%%writefile pi.c\n",
        "#include <stdio.h>\n",
        "#define PI 3.14159265359\n",
        "\n",
        "int main() {\n",
        "  double radius;\n",
        "\n",
        "  printf(\"원의 반지름을 입력하시오: \");\n",
        "  scanf(\"%lf\", &radius);\n",
        "\n",
        "  printf(\"원의 면적: %lf\\n\", radius * radius * PI);\n",
        "}"
      ],
      "metadata": {
        "colab": {
          "base_uri": "https://localhost:8080/"
        },
        "id": "w1WtAJw4KFkB",
        "outputId": "b6875620-5727-476c-8c92-cf427e7faf74"
      },
      "execution_count": 55,
      "outputs": [
        {
          "output_type": "stream",
          "name": "stdout",
          "text": [
            "Overwriting pi.c\n"
          ]
        }
      ]
    },
    {
      "cell_type": "code",
      "source": [
        "%%shell\n",
        "gcc pi.c\n",
        "./a.out"
      ],
      "metadata": {
        "colab": {
          "base_uri": "https://localhost:8080/"
        },
        "id": "uyPjjcHkK3UO",
        "outputId": "261bd523-145b-4c0f-abb3-a59fd6561db7"
      },
      "execution_count": 56,
      "outputs": [
        {
          "output_type": "stream",
          "name": "stdout",
          "text": [
            "원의 반지름을 입력하시오: 10\n",
            "원의 면적: 314.159265\n"
          ]
        },
        {
          "output_type": "execute_result",
          "data": {
            "text/plain": []
          },
          "metadata": {},
          "execution_count": 56
        }
      ]
    },
    {
      "cell_type": "code",
      "source": [
        "%%writefile miniProject.c\n",
        "#include <stdio.h>\n",
        "\n",
        "int main() {\n",
        "  int age;\n",
        "  printf(\"나이를 입력하시오: \");\n",
        "  scanf(\"%d\", &age);\n",
        "  printf(\"나이: %d\\n\", age);\n",
        "\n",
        "  short id;\n",
        "  printf(\"직원 아이디를 입력하시오: \");\n",
        "  scanf(\"%hi\", &id);\n",
        "  printf(\"아이디: %hi\\n\", id);\n",
        "\n",
        "  long produceCapacity;\n",
        "  printf(\"생산량을 입력하시오: \");\n",
        "  scanf(\"%ld\", &produceCapacity);\n",
        "  printf(\"생산량: %ld\\n\", produceCapacity);\n",
        "\n",
        "  double numOfStars;\n",
        "  printf(\"별의 개수를 입력하시오: \");\n",
        "  scanf(\"%lf\", &numOfStars);\n",
        "  printf(\"별의 개수: %e\\n\", numOfStars);\n",
        "\n",
        "  char character;\n",
        "  printf(\"글자를 입력하시오: \");\n",
        "  getchar();\n",
        "  character = getchar();\n",
        "  printf(\"글자: %c\\n\", character);\n",
        "}"
      ],
      "metadata": {
        "colab": {
          "base_uri": "https://localhost:8080/"
        },
        "id": "9AQqd376MGRu",
        "outputId": "26ae7e89-963c-411f-c7a3-37dbf42989a1"
      },
      "execution_count": 78,
      "outputs": [
        {
          "output_type": "stream",
          "name": "stdout",
          "text": [
            "Overwriting miniProject.c\n"
          ]
        }
      ]
    },
    {
      "cell_type": "code",
      "source": [
        "%%shell\n",
        "gcc miniProject.c\n",
        "./a.out"
      ],
      "metadata": {
        "colab": {
          "base_uri": "https://localhost:8080/"
        },
        "id": "oOcM8DB_P2JB",
        "outputId": "adb0190a-b2e8-4cea-f7a3-6516f4613353"
      },
      "execution_count": 79,
      "outputs": [
        {
          "output_type": "stream",
          "name": "stdout",
          "text": [
            "나이를 입력하시오: 20\n",
            "나이: 20\n",
            "직원 아이디를 입력하시오: 123\n",
            "아이디: 123\n",
            "생산량을 입력하시오: 1000000\n",
            "생산량: 1000000\n",
            "별의 개수를 입력하시오: 7e22\n",
            "별의 개수: 7.000000e+22\n",
            "글자를 입력하시오: a\n",
            "글자: a\n"
          ]
        },
        {
          "output_type": "execute_result",
          "data": {
            "text/plain": []
          },
          "metadata": {},
          "execution_count": 79
        }
      ]
    }
  ]
}