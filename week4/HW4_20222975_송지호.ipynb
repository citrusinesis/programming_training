{
  "nbformat": 4,
  "nbformat_minor": 0,
  "metadata": {
    "colab": {
      "provenance": []
    },
    "kernelspec": {
      "name": "python3",
      "display_name": "Python 3"
    },
    "language_info": {
      "name": "python"
    }
  },
  "cells": [
    {
      "cell_type": "code",
      "execution_count": 5,
      "metadata": {
        "colab": {
          "base_uri": "https://localhost:8080/"
        },
        "id": "lnpRKdzn0xcy",
        "outputId": "08655394-4ae1-467e-f7cd-1c289543a905"
      },
      "outputs": [
        {
          "output_type": "stream",
          "name": "stdout",
          "text": [
            "Overwriting BMI.c\n"
          ]
        }
      ],
      "source": [
        "%%writefile BMI.c\n",
        "#include <stdio.h>\n",
        "\n",
        "int main() {\n",
        "    double height, weight;\n",
        "\n",
        "    printf(\"체중을 입력하시오: \");\n",
        "    scanf(\"%lf\", &weight);\n",
        "    printf(\"신장을 입력하시오(단위: 미터): \");\n",
        "    scanf(\"%lf\", &height);\n",
        "\n",
        "    printf(\"BMI: %.2lf\", weight / (height * height));\n",
        "}"
      ]
    },
    {
      "cell_type": "code",
      "source": [
        "%%shell\n",
        "gcc BMI.c\n",
        "./a.out"
      ],
      "metadata": {
        "colab": {
          "base_uri": "https://localhost:8080/"
        },
        "id": "FGTRXpGu1r-r",
        "outputId": "39ee04f0-6bb4-4a68-e093-2cebe8c61925"
      },
      "execution_count": 6,
      "outputs": [
        {
          "output_type": "stream",
          "name": "stdout",
          "text": [
            "체중을 입력하시오: 85\n",
            "신장을 입력하시오(단위: 미터): 1.8\n",
            "BMI: 26.23"
          ]
        },
        {
          "output_type": "execute_result",
          "data": {
            "text/plain": []
          },
          "metadata": {},
          "execution_count": 6
        }
      ]
    },
    {
      "cell_type": "code",
      "source": [
        "%%writefile cal.c\n",
        "#include <stdio.h>\n",
        "\n",
        "int main() {\n",
        "    int x, y, z;\n",
        "\n",
        "    printf(\"정수를 3개 입력하시오: \");\n",
        "    scanf(\"%d %d %d\", &x, &y, &z);\n",
        "\n",
        "    printf(\"%d * %d / %d = %d\", x, y, z, x * y - z);\n",
        "}"
      ],
      "metadata": {
        "colab": {
          "base_uri": "https://localhost:8080/"
        },
        "id": "1lCmL8Qy8mQ7",
        "outputId": "eb888fa4-5ac4-43eb-bf3b-1bd28de4b251"
      },
      "execution_count": 7,
      "outputs": [
        {
          "output_type": "stream",
          "name": "stdout",
          "text": [
            "Writing cal.c\n"
          ]
        }
      ]
    },
    {
      "cell_type": "code",
      "source": [
        "%%shell\n",
        "gcc cal.c\n",
        "./a.out"
      ],
      "metadata": {
        "colab": {
          "base_uri": "https://localhost:8080/"
        },
        "id": "qZjaJblj82Pm",
        "outputId": "86afa76d-4087-4ed0-81ad-9cc8d192490a"
      },
      "execution_count": 8,
      "outputs": [
        {
          "output_type": "stream",
          "name": "stdout",
          "text": [
            "정수를 3개 입력하시오: 1 2 3\n",
            "1 * 2 / 3 = -1"
          ]
        },
        {
          "output_type": "execute_result",
          "data": {
            "text/plain": []
          },
          "metadata": {},
          "execution_count": 8
        }
      ]
    },
    {
      "cell_type": "code",
      "source": [
        "%%writefile dc.c\n",
        "#include <stdio.h>\n",
        "\n",
        "int main() {\n",
        "    int price;\n",
        "    double dcRate;\n",
        "\n",
        "    printf(\"상품 가격을 입력하시오: \");\n",
        "    scanf(\"%d\", &price);\n",
        "    printf(\"할인률을 입력하시오: \");\n",
        "    scanf(\"%lf\", &dcRate);\n",
        "\n",
        "    printf(\"할인된 가격은 %.2lf입니다.\\n\", price * (1.0 - dcRate / 100.0));\n",
        "}"
      ],
      "metadata": {
        "colab": {
          "base_uri": "https://localhost:8080/"
        },
        "id": "xpEl7ZC59kWa",
        "outputId": "83f090bd-d374-4c38-8b9c-51d67c22a399"
      },
      "execution_count": 11,
      "outputs": [
        {
          "output_type": "stream",
          "name": "stdout",
          "text": [
            "Overwriting dc.c\n"
          ]
        }
      ]
    },
    {
      "cell_type": "code",
      "source": [
        "%%shell\n",
        "gcc dc.c\n",
        "./a.out"
      ],
      "metadata": {
        "colab": {
          "base_uri": "https://localhost:8080/"
        },
        "id": "G8DMxqfQ9mZc",
        "outputId": "ec3307e5-334b-4d50-88a9-f0ba5b459057"
      },
      "execution_count": 12,
      "outputs": [
        {
          "output_type": "stream",
          "name": "stdout",
          "text": [
            "상품 가격을 입력하시오: 200000\n",
            "할인률을 입력하시오: 10\n",
            "할인된 가격은 180000.00입니다.\n"
          ]
        },
        {
          "output_type": "execute_result",
          "data": {
            "text/plain": []
          },
          "metadata": {},
          "execution_count": 12
        }
      ]
    },
    {
      "cell_type": "code",
      "source": [
        "%%writefile even.c\n",
        "#include <stdio.h>\n",
        "\n",
        "int main() {\n",
        "    double kor, eng, math;\n",
        "\n",
        "    printf(\"3과목의 점수를 입력한다: \");\n",
        "    scanf(\"%lf %lf %lf\", &kor, &eng, &math);\n",
        "\n",
        "    printf(\"총점=%.2lf\\n\", kor + eng + math);\n",
        "    printf(\"평균=%.2lf\\n\", (kor + eng + math) / 3);\n",
        "}"
      ],
      "metadata": {
        "colab": {
          "base_uri": "https://localhost:8080/"
        },
        "id": "k3w2cpcGBmAs",
        "outputId": "0fa51e39-6ca9-4c13-ae87-0d5092ed03a3"
      },
      "execution_count": 15,
      "outputs": [
        {
          "output_type": "stream",
          "name": "stdout",
          "text": [
            "Overwriting even.c\n"
          ]
        }
      ]
    },
    {
      "cell_type": "code",
      "source": [
        "%%shell\n",
        "gcc even.c\n",
        "./a.out"
      ],
      "metadata": {
        "colab": {
          "base_uri": "https://localhost:8080/"
        },
        "id": "auSixg2FBolQ",
        "outputId": "5be0f1c9-3fad-41a9-9221-784331487ca8"
      },
      "execution_count": 16,
      "outputs": [
        {
          "output_type": "stream",
          "name": "stdout",
          "text": [
            "3과목의 점수를 입력한다: 80 70 90\n",
            "총점=240.00\n",
            "평균=80.00\n"
          ]
        },
        {
          "output_type": "execute_result",
          "data": {
            "text/plain": []
          },
          "metadata": {},
          "execution_count": 16
        }
      ]
    },
    {
      "cell_type": "code",
      "source": [
        "%%writefile division.c\n",
        "#include <stdio.h>\n",
        "\n",
        "int main() {\n",
        "    int x, y;\n",
        "\n",
        "    printf(\"첫 번째 정수를 입력하시오: \");\n",
        "    scanf(\"%d\", &x);\n",
        "    printf(\"두 번째 정수를 입력하시오: \");\n",
        "    scanf(\"%d\", &y);\n",
        "\n",
        "    printf(\"몫은 %d이고 나머지는 %d입니다.\", x / y, x % y);\n",
        "}"
      ],
      "metadata": {
        "colab": {
          "base_uri": "https://localhost:8080/"
        },
        "id": "RN0ttF6nClEN",
        "outputId": "63fb090a-8b9a-499d-f565-a40cae62d51c"
      },
      "execution_count": 17,
      "outputs": [
        {
          "output_type": "stream",
          "name": "stdout",
          "text": [
            "Writing division.c\n"
          ]
        }
      ]
    },
    {
      "cell_type": "code",
      "source": [
        "%%shell\n",
        "gcc division.c\n",
        "./a.out"
      ],
      "metadata": {
        "colab": {
          "base_uri": "https://localhost:8080/"
        },
        "id": "31lTlV0ACoAC",
        "outputId": "f5ebf1c7-eaec-47d4-ac8c-648ebe14763b"
      },
      "execution_count": 18,
      "outputs": [
        {
          "output_type": "stream",
          "name": "stdout",
          "text": [
            "첫 번째 정수를 입력하시오: 10\n",
            "두 번째 정수를 입력하시오: 3\n",
            "몫은 3이고 나머지는 1입니다."
          ]
        },
        {
          "output_type": "execute_result",
          "data": {
            "text/plain": []
          },
          "metadata": {},
          "execution_count": 18
        }
      ]
    },
    {
      "cell_type": "code",
      "source": [
        "%%writefile nthNumber.c\n",
        "#include <stdio.h>\n",
        "\n",
        "int main() {\n",
        "    int input;\n",
        "\n",
        "    printf(\"정수를 입력하시오: \");\n",
        "    scanf(\"%d\", &input);\n",
        "\n",
        "    printf(\"백의 자리수: %d\\n\", input / 100);\n",
        "    printf(\"십의 자리수: %d\\n\", (input % 100) / 10);\n",
        "    printf(\"백의 자리수: %d\\n\", (input % 100) % 10);\n",
        "}"
      ],
      "metadata": {
        "colab": {
          "base_uri": "https://localhost:8080/"
        },
        "id": "hmYw7f5gCqXG",
        "outputId": "d4a656ff-5473-4e15-8abc-8fab1537ad33"
      },
      "execution_count": 20,
      "outputs": [
        {
          "output_type": "stream",
          "name": "stdout",
          "text": [
            "Overwriting nthNumber.c\n"
          ]
        }
      ]
    },
    {
      "cell_type": "code",
      "source": [
        "%%shell\n",
        "gcc nthNumber.c\n",
        "./a.out"
      ],
      "metadata": {
        "colab": {
          "base_uri": "https://localhost:8080/"
        },
        "id": "-GT3m-tcDmR6",
        "outputId": "212636ac-554a-4944-c081-3bce3f28087b"
      },
      "execution_count": 21,
      "outputs": [
        {
          "output_type": "stream",
          "name": "stdout",
          "text": [
            "정수를 입력하시오: 378\n",
            "백의 자리수: 3\n",
            "십의 자리수: 7\n",
            "백의 자리수: 8\n"
          ]
        },
        {
          "output_type": "execute_result",
          "data": {
            "text/plain": []
          },
          "metadata": {},
          "execution_count": 21
        }
      ]
    },
    {
      "cell_type": "code",
      "source": [
        "%%writefile func.c\n",
        "#include <stdio.h>\n",
        "\n",
        "int main() {\n",
        "    double x;\n",
        "\n",
        "    printf(\"x의 값을 입력하시오: \");\n",
        "    scanf(\"%lf\", &x);\n",
        "\n",
        "    printf(\"수식의 값은 %lf입니다.\\n\", ((x * x * x) - 20) / (x - 7));\n",
        "}"
      ],
      "metadata": {
        "colab": {
          "base_uri": "https://localhost:8080/"
        },
        "id": "9NmGPE9sEeTZ",
        "outputId": "f01ff9de-8d66-4b07-d41c-11b32375bc6a"
      },
      "execution_count": 22,
      "outputs": [
        {
          "output_type": "stream",
          "name": "stdout",
          "text": [
            "Writing func.c\n"
          ]
        }
      ]
    },
    {
      "cell_type": "code",
      "source": [
        "%%shell\n",
        "gcc func.c\n",
        "./a.out"
      ],
      "metadata": {
        "colab": {
          "base_uri": "https://localhost:8080/"
        },
        "id": "6-KcQpAIEglj",
        "outputId": "395ec0d4-6781-4a82-9873-020b6cb61dc0"
      },
      "execution_count": 23,
      "outputs": [
        {
          "output_type": "stream",
          "name": "stdout",
          "text": [
            "x의 값을 입력하시오: 10.0\n",
            "수식의 값은 326.666667입니다.\n"
          ]
        },
        {
          "output_type": "execute_result",
          "data": {
            "text/plain": []
          },
          "metadata": {},
          "execution_count": 23
        }
      ]
    },
    {
      "cell_type": "code",
      "source": [
        "%%writefile intPart.c\n",
        "#include <stdio.h>\n",
        "\n",
        "int main() {\n",
        "    double a, b;\n",
        "\n",
        "    printf(\"2개의 실수를 입력하시오: \");\n",
        "    scanf(\"%lf %lf\", &a, &b);\n",
        "\n",
        "    printf(\"합의 정수부 = %d\\n\", (int)(a + b));\n",
        "}"
      ],
      "metadata": {
        "colab": {
          "base_uri": "https://localhost:8080/"
        },
        "id": "YXCklcG9EiI0",
        "outputId": "40acdec5-fcb5-4bb2-ae30-0c020ac47696"
      },
      "execution_count": 25,
      "outputs": [
        {
          "output_type": "stream",
          "name": "stdout",
          "text": [
            "Overwriting intPart.c\n"
          ]
        }
      ]
    },
    {
      "cell_type": "code",
      "source": [
        "%%shell\n",
        "gcc intPart.c\n",
        "./a.out"
      ],
      "metadata": {
        "colab": {
          "base_uri": "https://localhost:8080/"
        },
        "id": "aiD1AsFvFjlJ",
        "outputId": "9be57ccb-9012-41a8-8d94-6a5f09ef74fc"
      },
      "execution_count": 26,
      "outputs": [
        {
          "output_type": "stream",
          "name": "stdout",
          "text": [
            "2개의 실수를 입력하시오: 1.23456 2.34567\n",
            "합의 정수부 = 3\n"
          ]
        },
        {
          "output_type": "execute_result",
          "data": {
            "text/plain": []
          },
          "metadata": {},
          "execution_count": 26
        }
      ]
    },
    {
      "cell_type": "code",
      "source": [
        "%%writefile lsb.c\n",
        "#include <stdio.h>\n",
        "\n",
        "int main() {\n",
        "    int input;\n",
        "\n",
        "    printf(\"숫자를 입력하시오: \");\n",
        "    scanf(\"%d\", &input);\n",
        "\n",
        "    printf(\"LSB는 %d\\n\", input & 1);\n",
        "}"
      ],
      "metadata": {
        "colab": {
          "base_uri": "https://localhost:8080/"
        },
        "id": "g2GAFEQLFmHL",
        "outputId": "e3deaf93-3a71-4ff4-a943-22da8d0c8b37"
      },
      "execution_count": 27,
      "outputs": [
        {
          "output_type": "stream",
          "name": "stdout",
          "text": [
            "Writing lsb.c\n"
          ]
        }
      ]
    },
    {
      "cell_type": "code",
      "source": [
        "%%shell\n",
        "gcc lsb.c\n",
        "./a.out"
      ],
      "metadata": {
        "colab": {
          "base_uri": "https://localhost:8080/"
        },
        "id": "2z5hbUi6I5ZK",
        "outputId": "c48ea936-3506-4c14-ec12-aa7fb8e43e56"
      },
      "execution_count": 28,
      "outputs": [
        {
          "output_type": "stream",
          "name": "stdout",
          "text": [
            "숫자를 입력하시오: 9\n",
            "LSB는 1\n"
          ]
        },
        {
          "output_type": "execute_result",
          "data": {
            "text/plain": []
          },
          "metadata": {},
          "execution_count": 28
        }
      ]
    },
    {
      "cell_type": "code",
      "source": [
        "%%writefile bitSwapper.c\n",
        "#include <stdio.h>\n",
        "\n",
        "int main() {\n",
        "    int input, pos;\n",
        "\n",
        "    printf(\"숫자를 입력하시오: \");\n",
        "    scanf(\"%d\", &input);\n",
        "    printf(\"n을 입력하시오: \");\n",
        "    scanf(\"%d\", &pos);\n",
        "\n",
        "    printf(\"새로운 값= %d\", (0x1 << pos) | input);\n",
        "}"
      ],
      "metadata": {
        "colab": {
          "base_uri": "https://localhost:8080/"
        },
        "id": "ua6ZqJV_I7mB",
        "outputId": "602a641c-3f81-498d-fef6-d2eb3e1c9683"
      },
      "execution_count": 29,
      "outputs": [
        {
          "output_type": "stream",
          "name": "stdout",
          "text": [
            "Writing bitSwapper.c\n"
          ]
        }
      ]
    },
    {
      "cell_type": "code",
      "source": [
        "%%shell\n",
        "gcc bitSwapper.c\n",
        "./a.out"
      ],
      "metadata": {
        "colab": {
          "base_uri": "https://localhost:8080/"
        },
        "id": "ucnsBwtrJrAw",
        "outputId": "7dc35432-c39f-441f-c386-5a8f2c58cd5e"
      },
      "execution_count": 30,
      "outputs": [
        {
          "output_type": "stream",
          "name": "stdout",
          "text": [
            "숫자를 입력하시오: 9\n",
            "n을 입력하시오: 2\n",
            "새로운 값= 13"
          ]
        },
        {
          "output_type": "execute_result",
          "data": {
            "text/plain": []
          },
          "metadata": {},
          "execution_count": 30
        }
      ]
    }
  ]
}