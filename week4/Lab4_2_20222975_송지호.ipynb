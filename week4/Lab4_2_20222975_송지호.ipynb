{
  "cells": [
    {
      "cell_type": "code",
      "execution_count": 9,
      "metadata": {
        "colab": {
          "base_uri": "https://localhost:8080/"
        },
        "id": "yzindxzffLov",
        "outputId": "8f80f8c0-c785-44ea-b49f-8c44970c661c"
      },
      "outputs": [
        {
          "name": "stdout",
          "output_type": "stream",
          "text": [
            "Overwriting workdayFormatter.c\n"
          ]
        }
      ],
      "source": [
        "%%writefile workdayFormatter.c\n",
        "#include <stdio.h>\n",
        "#define DFY 365\n",
        "#define DFW 7\n",
        "\n",
        "int main() {\n",
        "    int input;\n",
        "    printf(\"총 일수를 입력하시오: \");\n",
        "    scanf(\"%d\", &input);\n",
        "\n",
        "    printf(\"%d년 %d주 %d일\\n\", input / DFY, input % DFY / DFW,\n",
        "           input % DFY % DFW);\n",
        "}"
      ]
    },
    {
      "cell_type": "code",
      "execution_count": 10,
      "metadata": {
        "colab": {
          "base_uri": "https://localhost:8080/"
        },
        "id": "FPCf0P0lfSps",
        "outputId": "e3e7854e-eaa8-48a7-9f50-4ccd62036735"
      },
      "outputs": [
        {
          "name": "stdout",
          "output_type": "stream",
          "text": [
            "총 일수를 입력하시오: 389\n",
            "1년 3주 3일\n"
          ]
        },
        {
          "data": {
            "text/plain": []
          },
          "execution_count": 10,
          "metadata": {},
          "output_type": "execute_result"
        }
      ],
      "source": [
        "%%shell\n",
        "gcc workdayFormatter.c\n",
        "./a.out"
      ]
    },
    {
      "cell_type": "code",
      "execution_count": 16,
      "metadata": {
        "colab": {
          "base_uri": "https://localhost:8080/"
        },
        "id": "uHfFuqQJfVCr",
        "outputId": "c99bebb3-1c3f-47eb-aae8-0f3fa5f0bbe3"
      },
      "outputs": [
        {
          "name": "stdout",
          "output_type": "stream",
          "text": [
            "Overwriting vendingMachine.c\n"
          ]
        }
      ],
      "source": [
        "%%writefile vendingMachine.c\n",
        "#include <stdio.h>\n",
        "\n",
        "int main() {\n",
        "    int input, charge;\n",
        "    printf(\"투입한 돈: \");\n",
        "    scanf(\"%d\", &input);\n",
        "    printf(\"물건값: \");\n",
        "    scanf(\"%d\", &charge);\n",
        "\n",
        "    int remainder = input - charge;\n",
        "    printf(\"거스름돈: %d\\n\\n\", remainder);\n",
        "    printf(\"100원 동전의 개수: %d\\n\", (remainder % 1000) / 100);\n",
        "    printf(\"10원 동전의 개수: %d\\n\", (remainder % 100) / 10);\n",
        "}"
      ]
    },
    {
      "cell_type": "code",
      "execution_count": 17,
      "metadata": {
        "colab": {
          "base_uri": "https://localhost:8080/"
        },
        "id": "pBe4MfPsgolC",
        "outputId": "e1e84464-6c87-4ad8-d09b-5c736aaf0003"
      },
      "outputs": [
        {
          "name": "stdout",
          "output_type": "stream",
          "text": [
            "투입한 돈: 1000\n",
            "물건값: 270\n",
            "거스름돈: 730\n",
            "\n",
            "100원 동전의 개수: 7\n",
            "10원 동전의 개수: 3\n"
          ]
        },
        {
          "data": {
            "text/plain": []
          },
          "execution_count": 17,
          "metadata": {},
          "output_type": "execute_result"
        }
      ],
      "source": [
        "%%shell\n",
        "gcc vendingMachine.c\n",
        "./a.out"
      ]
    },
    {
      "cell_type": "code",
      "execution_count": 1,
      "metadata": {
        "colab": {
          "base_uri": "https://localhost:8080/"
        },
        "id": "TJg0sxwA9yIG",
        "outputId": "dd49f478-027a-48db-9f74-4f7f4a43d8fd"
      },
      "outputs": [
        {
          "name": "stdout",
          "output_type": "stream",
          "text": [
            "Writing statusCheck.c\n"
          ]
        }
      ],
      "source": [
        "%%writefile statusCheck.c\n",
        "#include <stdio.h>\n",
        "#include <stdlib.h>\n",
        "\n",
        "int main(int argc, char *argv[]) {\n",
        "    int status = atoi(argv[1]);\n",
        "\n",
        "    if (status > 0xFF)\n",
        "        fprintf(stderr, \"[*] Error: Out of Range\\n\");\n",
        "    else if (status & 1)\n",
        "        printf(\"True\\n\");\n",
        "    else\n",
        "        printf(\"False\\n\");\n",
        "}"
      ]
    },
    {
      "cell_type": "code",
      "execution_count": 5,
      "metadata": {
        "colab": {
          "base_uri": "https://localhost:8080/"
        },
        "id": "EkPyoeds94df",
        "outputId": "6ecc6a9d-1da0-4429-f181-bd8bf80d46ef"
      },
      "outputs": [
        {
          "name": "stdout",
          "output_type": "stream",
          "text": [
            "False\n"
          ]
        },
        {
          "data": {
            "text/plain": []
          },
          "execution_count": 5,
          "metadata": {},
          "output_type": "execute_result"
        }
      ],
      "source": [
        "%%shell\n",
        "gcc statusCheck.c\n",
        "./a.out 6"
      ]
    },
    {
      "cell_type": "code",
      "execution_count": 8,
      "metadata": {
        "colab": {
          "base_uri": "https://localhost:8080/"
        },
        "id": "Pmpn3NzM-wxG",
        "outputId": "644c343d-c5e6-4a4c-c8ac-a3cf6fbe348f"
      },
      "outputs": [
        {
          "name": "stdout",
          "output_type": "stream",
          "text": [
            "Overwriting squareFunc.c\n"
          ]
        }
      ],
      "source": [
        "%%writefile squareFunc.c\n",
        "#include <stdio.h>\n",
        "\n",
        "int main() {\n",
        "    int x = 2;\n",
        "    printf(\"y = 3x^2+7x+9\\ny|x=2 = %lf\\n\", 3.0 * x * x + 7.0 * x + 9.0);\n",
        "}"
      ]
    },
    {
      "cell_type": "code",
      "execution_count": 9,
      "metadata": {
        "colab": {
          "base_uri": "https://localhost:8080/"
        },
        "id": "UL-RnzNe-068",
        "outputId": "f761b23c-e6a0-4c6d-d4b9-60ca82b9c1fd"
      },
      "outputs": [
        {
          "name": "stdout",
          "output_type": "stream",
          "text": [
            "y = 3x^2+7x+9\n",
            "y|x=2 = 35.000000\n"
          ]
        },
        {
          "data": {
            "text/plain": []
          },
          "execution_count": 9,
          "metadata": {},
          "output_type": "execute_result"
        }
      ],
      "source": [
        "%%shell\n",
        "gcc squareFunc.c\n",
        "./a.out"
      ]
    },
    {
      "cell_type": "code",
      "execution_count": 38,
      "metadata": {
        "colab": {
          "base_uri": "https://localhost:8080/"
        },
        "id": "_uCO1wAN-_LR",
        "outputId": "5b2de1a2-fcc0-4731-c361-abb84a85bc82"
      },
      "outputs": [
        {
          "name": "stdout",
          "output_type": "stream",
          "text": [
            "Overwriting interest.c\n"
          ]
        }
      ],
      "source": [
        "%%writefile interest.c\n",
        "#include <math.h>\n",
        "#include <stdio.h>\n",
        "\n",
        "int main() {\n",
        "    int n = 382;\n",
        "    long double p = 24.0, r = 0.06;\n",
        "\n",
        "    printf(\"초기 저금액: %.1Lf\\n\", p);\n",
        "    printf(\"이율: %.2Lf\\n\", r);\n",
        "    printf(\"저축기간: %d\\n\", n);\n",
        "\n",
        "    long double total = p * (powl(1.0 + r, n) - 1.0) / r;\n",
        "    printf(\"%d년 후의 원리금 = %Lf\\n\", n, total);\n",
        "}"
      ]
    },
    {
      "cell_type": "code",
      "execution_count": 39,
      "metadata": {
        "colab": {
          "base_uri": "https://localhost:8080/"
        },
        "id": "MZTilTJsUbQ3",
        "outputId": "f2b33a0d-f364-4526-c3a4-fd6260151651"
      },
      "outputs": [
        {
          "name": "stdout",
          "output_type": "stream",
          "text": [
            "초기 저금액: 24.0\n",
            "이율: 0.06\n",
            "저축기간: 382\n",
            "382년 후의 원리금 = 1857378963138.103524\n"
          ]
        },
        {
          "data": {
            "text/plain": []
          },
          "execution_count": 39,
          "metadata": {},
          "output_type": "execute_result"
        }
      ],
      "source": [
        "%%shell\n",
        "gcc interest.c -lm\n",
        "./a.out"
      ]
    }
  ],
  "metadata": {
    "colab": {
      "collapsed_sections": [],
      "provenance": []
    },
    "kernelspec": {
      "display_name": "Python 3.8.10 64-bit",
      "language": "python",
      "name": "python3"
    },
    "language_info": {
      "name": "python",
      "version": "3.8.10"
    },
    "vscode": {
      "interpreter": {
        "hash": "916dbcbb3f70747c44a77c7bcd40155683ae19c65e1c03b4aa3499c5328201f1"
      }
    }
  },
  "nbformat": 4,
  "nbformat_minor": 0
}
