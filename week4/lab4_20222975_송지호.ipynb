{
  "nbformat": 4,
  "nbformat_minor": 0,
  "metadata": {
    "colab": {
      "provenance": []
    },
    "kernelspec": {
      "name": "python3",
      "display_name": "Python 3"
    },
    "language_info": {
      "name": "python"
    }
  },
  "cells": [
    {
      "cell_type": "code",
      "execution_count": 4,
      "metadata": {
        "colab": {
          "base_uri": "https://localhost:8080/"
        },
        "id": "7pWqm6TWH548",
        "outputId": "d03eebec-a04c-4766-d903-c420243433bb"
      },
      "outputs": [
        {
          "output_type": "stream",
          "name": "stdout",
          "text": [
            "Overwriting arithmetic1.c\n"
          ]
        }
      ],
      "source": [
        "%%writefile arithmetic1.c\n",
        "#include <stdio.h>\n",
        "\n",
        "int main() {\n",
        "    int x, y;\n",
        "    printf(\"두개의 정수를 입력하시오: \");\n",
        "    scanf(\"%d %d\", &x, &y);\n",
        "\n",
        "    printf(\"%d + %d = %d\\n\", x, y, x+y);\n",
        "    printf(\"%d - %d = %d\\n\", x, y, x-y);\n",
        "    printf(\"%d * %d = %d\\n\", x, y, x*y);\n",
        "    printf(\"%d / %d = %d\\n\", x, y, x/y);\n",
        "    printf(\"%d %% %d = %d\\n\", x, y, x%y);\n",
        "}"
      ]
    },
    {
      "cell_type": "code",
      "source": [
        "%%shell\n",
        "gcc ./arithmetic1.c\n",
        "./a.out"
      ],
      "metadata": {
        "colab": {
          "base_uri": "https://localhost:8080/"
        },
        "id": "uB_b0HIGW762",
        "outputId": "4377aaf4-34f0-4a51-c872-ca9e347876d7"
      },
      "execution_count": 5,
      "outputs": [
        {
          "output_type": "stream",
          "name": "stdout",
          "text": [
            "두개의 정수를 입력하시오: 7 4\n",
            "7 + 4 = 11\n",
            "7 - 4 = 3\n",
            "7 * 4 = 28\n",
            "7 / 4 = 1\n",
            "7 % 4 = 3\n"
          ]
        },
        {
          "output_type": "execute_result",
          "data": {
            "text/plain": []
          },
          "metadata": {},
          "execution_count": 5
        }
      ]
    },
    {
      "cell_type": "code",
      "source": [
        "%%writefile arithmetic2.c\n",
        "#include <stdio.h>\n",
        "\n",
        "int main() {\n",
        "    double x, y;\n",
        "    printf(\"두개의 실수를 입력하시오: \");\n",
        "    scanf(\"%lf %lf\", &x, &y);\n",
        "\n",
        "    printf(\"%lf + %lf = %lf\\n\", x, y, x+y);\n",
        "    printf(\"%lf - %lf = %lf\\n\", x, y, x-y);\n",
        "    printf(\"%lf * %lf = %lf\\n\", x, y, x*y);\n",
        "    printf(\"%lf / %lf = %lf\\n\", x, y, x/y);\n",
        "}"
      ],
      "metadata": {
        "id": "4ypRlCtfXJX8"
      },
      "execution_count": null,
      "outputs": []
    },
    {
      "cell_type": "code",
      "source": [
        "%%shell\n",
        "gcc ./arithmetic2.c\n",
        "./a.out"
      ],
      "metadata": {
        "colab": {
          "base_uri": "https://localhost:8080/"
        },
        "id": "pzuOHWf4Xd9K",
        "outputId": "40511587-ebb3-4f7c-c20e-1990973a8690"
      },
      "execution_count": 10,
      "outputs": [
        {
          "output_type": "stream",
          "name": "stdout",
          "text": [
            "두개의 정수를 입력하시오: 7.0 4.0\n",
            "7.000000 + 4.000000 = 11.000000\n",
            "7.000000 - 4.000000 = 3.000000\n",
            "7.000000 * 4.000000 = 28.000000\n",
            "7.000000 / 4.000000 = 1.750000\n"
          ]
        },
        {
          "output_type": "execute_result",
          "data": {
            "text/plain": []
          },
          "metadata": {},
          "execution_count": 10
        }
      ]
    },
    {
      "cell_type": "code",
      "source": [
        "%%writefile modulo.c\n",
        "#include <stdio.h>\n",
        "#define SEC_PER_MINUTE 60\n",
        "\n",
        "int main() {\n",
        "    int input;\n",
        "\n",
        "    printf(\"초 단위의 시간을 입력하시오: (32억초 이하)\");\n",
        "    scanf(\"%d\", &input);\n",
        "\n",
        "    printf(\"%d초는 %d분 %d초 입니다.\\n\", input, input/SEC_PER_MINUTE, input%SEC_PER_MINUTE);\n",
        "}"
      ],
      "metadata": {
        "colab": {
          "base_uri": "https://localhost:8080/"
        },
        "id": "WAYR9bJAXu56",
        "outputId": "790d03fe-e00f-49e8-8ff9-6cccf0746519"
      },
      "execution_count": 11,
      "outputs": [
        {
          "output_type": "stream",
          "name": "stdout",
          "text": [
            "Writing modulo.c\n"
          ]
        }
      ]
    },
    {
      "cell_type": "code",
      "source": [
        "%%shell\n",
        "gcc ./modulo.c\n",
        "./a.out"
      ],
      "metadata": {
        "colab": {
          "base_uri": "https://localhost:8080/"
        },
        "id": "WElJZ135YKZK",
        "outputId": "c7b49ac1-6a75-41cf-fe22-7024e1a54047"
      },
      "execution_count": 12,
      "outputs": [
        {
          "output_type": "stream",
          "name": "stdout",
          "text": [
            "초 단위의 시간을 입력하시오: (32억초 이하)1000\n",
            "1000초는 16분 40초 입니다.\n"
          ]
        },
        {
          "output_type": "execute_result",
          "data": {
            "text/plain": []
          },
          "metadata": {},
          "execution_count": 12
        }
      ]
    },
    {
      "cell_type": "code",
      "source": [
        "%%writefile plus.c\n",
        "#include <stdio.h>\n",
        "\n",
        "int main() {\n",
        "    int x = 1, y;\n",
        "    printf(\"x=%d y=%d\\n\", x, ++x);\n",
        "    printf(\"x=%d y=%d\\n\", x, x++);\n",
        "}"
      ],
      "metadata": {
        "colab": {
          "base_uri": "https://localhost:8080/"
        },
        "id": "lAMIbJS5YTwZ",
        "outputId": "1801b583-6f44-4f2c-8da4-a02a34be647a"
      },
      "execution_count": 18,
      "outputs": [
        {
          "output_type": "stream",
          "name": "stdout",
          "text": [
            "Overwriting plus.c\n"
          ]
        }
      ]
    },
    {
      "cell_type": "code",
      "source": [
        "%%shell\n",
        "gcc plus.c\n",
        "./a.out"
      ],
      "metadata": {
        "colab": {
          "base_uri": "https://localhost:8080/"
        },
        "id": "4up5Pl4mYrz0",
        "outputId": "67205e18-1dc9-45a4-af14-f09c7c115a0c"
      },
      "execution_count": 19,
      "outputs": [
        {
          "output_type": "stream",
          "name": "stdout",
          "text": [
            "x=2 y=2\n",
            "x=3 y=2\n"
          ]
        },
        {
          "output_type": "execute_result",
          "data": {
            "text/plain": []
          },
          "metadata": {},
          "execution_count": 19
        }
      ]
    },
    {
      "cell_type": "code",
      "source": [
        "%%writefile plus2.c\n",
        "#include <stdio.h>\n",
        "\n",
        "int main() {\n",
        "    int x = 10, y = 10;\n",
        "    printf(\"x=%d y=%d\\n\", x, y);\n",
        "    x += 1;\n",
        "    printf(\"(x += 1)이후 x=%d\\n\", x);\n",
        "    y *= 2;\n",
        "    printf(\"(y *= 2)이후 y=%d\\n\", y);\n",
        "}"
      ],
      "metadata": {
        "colab": {
          "base_uri": "https://localhost:8080/"
        },
        "id": "mlj-GB45ZEJa",
        "outputId": "584331d3-e9d4-44f5-82c6-acbda9558f0e"
      },
      "execution_count": 24,
      "outputs": [
        {
          "output_type": "stream",
          "name": "stdout",
          "text": [
            "Overwriting plus2.c\n"
          ]
        }
      ]
    },
    {
      "cell_type": "code",
      "source": [
        "%%shell\n",
        "gcc plus2.c\n",
        "./a.out"
      ],
      "metadata": {
        "colab": {
          "base_uri": "https://localhost:8080/"
        },
        "id": "ShNnccrMZdz8",
        "outputId": "572ac51a-88ea-4199-d930-0699bb7ff19e"
      },
      "execution_count": 25,
      "outputs": [
        {
          "output_type": "stream",
          "name": "stdout",
          "text": [
            "x=10 y=10\n",
            "(x += 1)이후 x=11\n",
            "(y *= 2)이후 y=20\n"
          ]
        },
        {
          "output_type": "execute_result",
          "data": {
            "text/plain": []
          },
          "metadata": {},
          "execution_count": 25
        }
      ]
    },
    {
      "cell_type": "code",
      "source": [
        "%%writefile rel.c\n",
        "#include <stdio.h>\n",
        "\n",
        "int main() {\n",
        "    int x, y;\n",
        "    printf(\"두개의 정수를 입력하시오: \");\n",
        "    scanf(\"%d %d\", &x, &y);\n",
        "\n",
        "    printf(\"x == y의 결과값: %d\\n\", x == y);\n",
        "    printf(\"x != y의 결과값: %d\\n\", x != y);\n",
        "    printf(\"x > y의 결과값: %d\\n\", x > y);\n",
        "    printf(\"x < y의 결과값: %d\\n\", x < y);\n",
        "    printf(\"x >= y의 결과값: %d\\n\", x >= y);\n",
        "    printf(\"x <= y의 결과값: %d\\n\", x <= y);\n",
        "}"
      ],
      "metadata": {
        "colab": {
          "base_uri": "https://localhost:8080/"
        },
        "id": "QTNLDLAOZ44w",
        "outputId": "93dc39b0-7372-4ece-b999-3875b90ddae5"
      },
      "execution_count": 29,
      "outputs": [
        {
          "output_type": "stream",
          "name": "stdout",
          "text": [
            "Overwriting rel.c\n"
          ]
        }
      ]
    },
    {
      "cell_type": "code",
      "source": [
        "%%shell\n",
        "gcc rel.c\n",
        "./a.out"
      ],
      "metadata": {
        "colab": {
          "base_uri": "https://localhost:8080/"
        },
        "id": "PTE_xYp-aPh7",
        "outputId": "3e5cce74-479e-4263-d3c0-66991719ef4b"
      },
      "execution_count": 31,
      "outputs": [
        {
          "output_type": "stream",
          "name": "stdout",
          "text": [
            "두개의 정수를 입력하시오: 4 0\n",
            "x == y의 결과값: 0\n",
            "x != y의 결과값: 1\n",
            "x > y의 결과값: 1\n",
            "x < y의 결과값: 0\n",
            "x >= y의 결과값: 1\n",
            "x <= y의 결과값: 0\n"
          ]
        },
        {
          "output_type": "execute_result",
          "data": {
            "text/plain": []
          },
          "metadata": {},
          "execution_count": 31
        }
      ]
    },
    {
      "cell_type": "code",
      "source": [
        "%%writefile bit.c\n",
        "#include <stdio.h>\n",
        "\n",
        "int main() {\n",
        "    int x = 9, y = 10;\n",
        "\n",
        "    printf(\"%08X & %08X = %08X\\n\", x, y, x & y);\n",
        "    printf(\"%08X | %08X = %08X\\n\", x, y, x | y);\n",
        "    printf(\"%08X ^ %08X = %08X\\n\", x, y, x ^ y);\n",
        "    printf(\"~%08X = %08X\\n\", x, ~x);\n",
        "}"
      ],
      "metadata": {
        "colab": {
          "base_uri": "https://localhost:8080/"
        },
        "id": "bOPW4GWzaj-3",
        "outputId": "b421b29f-7d2d-4432-8f61-fb7e55f7962b"
      },
      "execution_count": 32,
      "outputs": [
        {
          "output_type": "stream",
          "name": "stdout",
          "text": [
            "Writing bit.c\n"
          ]
        }
      ]
    },
    {
      "cell_type": "code",
      "source": [
        "%%shell\n",
        "gcc bit.c\n",
        "./a.out"
      ],
      "metadata": {
        "colab": {
          "base_uri": "https://localhost:8080/"
        },
        "id": "kyeceTWVbqFc",
        "outputId": "3a7b681b-d3aa-459b-f987-5ca5b6641079"
      },
      "execution_count": 33,
      "outputs": [
        {
          "output_type": "stream",
          "name": "stdout",
          "text": [
            "00000009 & 0000000A = 00000008\n",
            "00000009 | 0000000A = 0000000B\n",
            "00000009 ^ 0000000A = 00000003\n",
            "~00000009 = FFFFFFF6\n"
          ]
        },
        {
          "output_type": "execute_result",
          "data": {
            "text/plain": []
          },
          "metadata": {},
          "execution_count": 33
        }
      ]
    },
    {
      "cell_type": "code",
      "source": [
        "%%writefile bit2.c\n",
        "#include <stdio.h>\n",
        "\n",
        "int main() {\n",
        "    int x = 9;\n",
        "\n",
        "    printf(\"%d << 1 = %d\\n\", x, x<<1);\n",
        "    printf(\"%d >> 1 = %d\\n\", x, x>>1);\n",
        "}"
      ],
      "metadata": {
        "colab": {
          "base_uri": "https://localhost:8080/"
        },
        "id": "x6M3tLpYcGbQ",
        "outputId": "cca3e637-1b77-4a3f-acdd-1c4bd7f889f6"
      },
      "execution_count": 35,
      "outputs": [
        {
          "output_type": "stream",
          "name": "stdout",
          "text": [
            "Writing bit2.c\n"
          ]
        }
      ]
    },
    {
      "cell_type": "code",
      "source": [
        "%%shell\n",
        "gcc bit2.c\n",
        "./a.out"
      ],
      "metadata": {
        "colab": {
          "base_uri": "https://localhost:8080/"
        },
        "id": "MUUUxtrYcKh6",
        "outputId": "6195dd57-17c7-42ab-c028-d25effc33a10"
      },
      "execution_count": 36,
      "outputs": [
        {
          "output_type": "stream",
          "name": "stdout",
          "text": [
            "9 << 1 = 18\n",
            "9 >> 1 = 4\n"
          ]
        },
        {
          "output_type": "execute_result",
          "data": {
            "text/plain": []
          },
          "metadata": {},
          "execution_count": 36
        }
      ]
    },
    {
      "cell_type": "code",
      "source": [
        "%%writefile order.c\n",
        "#include <stdio.h>\n",
        "\n",
        "int main() {\n",
        "    int a = 10, b = 20, c = 30, d = 3, result;\n",
        "\n",
        "    printf(\"연산값: %d\\n\", a + b * c / d);\n",
        "    printf(\"연산값: %d\\n\", (a + b) * c / d);\n",
        "\n",
        "    result = a = b = 1;\n",
        "    printf(\"연산값: %d\\n\", result);\n",
        "}"
      ],
      "metadata": {
        "colab": {
          "base_uri": "https://localhost:8080/"
        },
        "id": "BBQ-oM7WcuPX",
        "outputId": "6d521943-c232-405b-d1b4-10fc7cf77bfc"
      },
      "execution_count": 37,
      "outputs": [
        {
          "output_type": "stream",
          "name": "stdout",
          "text": [
            "Writing order.c\n"
          ]
        }
      ]
    },
    {
      "cell_type": "code",
      "source": [
        "%%shell\n",
        "gcc order.c\n",
        "./a.out"
      ],
      "metadata": {
        "colab": {
          "base_uri": "https://localhost:8080/"
        },
        "id": "JTIMqVMPcw0i",
        "outputId": "df3590fa-c476-4ca2-ddd3-c41b0496d2ac"
      },
      "execution_count": 38,
      "outputs": [
        {
          "output_type": "stream",
          "name": "stdout",
          "text": [
            "연산값: 210\n",
            "연산값: 300\n",
            "연산값: 1\n"
          ]
        },
        {
          "output_type": "execute_result",
          "data": {
            "text/plain": []
          },
          "metadata": {},
          "execution_count": 38
        }
      ]
    },
    {
      "cell_type": "code",
      "source": [
        "%%writefile conv.c\n",
        "#include <stdio.h>\n",
        "\n",
        "int main() {\n",
        "    int i;\n",
        "    double f;\n",
        "\n",
        "    f = 5 / 4;\n",
        "    printf(\"5 / 4 = %lf\\n\", f);\n",
        "    f = (double)5 / 4;\n",
        "    printf(\"(double)5 / 4 = %lf\\n\", f);\n",
        "\n",
        "    i = 1.3 + 1.8;\n",
        "    printf(\"1.3 + 1.8 = %d\\n\", i);\n",
        "    i = (int)1.3 + (int)1.8;\n",
        "    printf(\"(int)1.3 + (int)1.8 = %d\\n\", i);\n",
        "}"
      ],
      "metadata": {
        "colab": {
          "base_uri": "https://localhost:8080/"
        },
        "id": "zQQNgkSOdhNd",
        "outputId": "0addf1e7-413d-4d73-8804-532084c0a1d4"
      },
      "execution_count": 39,
      "outputs": [
        {
          "output_type": "stream",
          "name": "stdout",
          "text": [
            "Writing conv.c\n"
          ]
        }
      ]
    },
    {
      "cell_type": "code",
      "source": [
        "%%shell\n",
        "gcc conv.c\n",
        "./a.out"
      ],
      "metadata": {
        "colab": {
          "base_uri": "https://localhost:8080/"
        },
        "id": "4Hli009edjlX",
        "outputId": "a3d09b63-5574-45a4-ca4c-4f7b4b6001a0"
      },
      "execution_count": 40,
      "outputs": [
        {
          "output_type": "stream",
          "name": "stdout",
          "text": [
            "5 / 4 = 1.000000\n",
            "(double)5 / 4 = 1.250000\n",
            "1.3 + 1.8 = 3\n",
            "(int)1.3 + (int)1.8 = 2\n"
          ]
        },
        {
          "output_type": "execute_result",
          "data": {
            "text/plain": []
          },
          "metadata": {},
          "execution_count": 40
        }
      ]
    }
  ]
}