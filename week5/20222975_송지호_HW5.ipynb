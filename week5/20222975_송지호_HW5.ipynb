{
 "cells": [
  {
   "cell_type": "code",
   "execution_count": null,
   "id": "7da08583",
   "metadata": {},
   "outputs": [],
   "source": [
    "%%writefile 1_oddEven.c\n",
    "#include <stdio.h>\n",
    "\n",
    "int main() {\n",
    "    int input;\n",
    "    scanf(\"정수를 입력하시오: %d\", &input);\n",
    "\n",
    "    if (input % 2) {\n",
    "        printf(\"%d는 홀수입니다.\\n\", input);\n",
    "    } else {\n",
    "        printf(\"%d는 짝수입니다.\\n\", input);\n",
    "    }\n",
    "}"
   ]
  },
  {
   "cell_type": "code",
   "execution_count": null,
   "id": "d4bf7e7b",
   "metadata": {},
   "outputs": [],
   "source": [
    "%%shell\n",
    "gcc ./1_oddEven.c\n",
    "./a.out"
   ]
  },
  {
   "cell_type": "code",
   "execution_count": null,
   "id": "bbcd6a81",
   "metadata": {},
   "outputs": [],
   "source": [
    "%%writefile 2_sumsub.c\n",
    "#include <stdio.h>\n",
    "\n",
    "int main() {\n",
    "    int a, b;\n",
    "    printf(\"정수를 입력하시오: \");\n",
    "    scanf(\"%d\", &a);\n",
    "    printf(\"정수를 입력하시오: \");\n",
    "    scanf(\"%d\", &b);\n",
    "\n",
    "    if (b > a) {\n",
    "        a ^= b;\n",
    "        b ^= a;\n",
    "        a ^= b;\n",
    "    }\n",
    "\n",
    "    printf(\"두 수의 합은 %d입니다.\\n\", a + b);\n",
    "    printf(\"두 수의 합은 %d입니다.\\n\", a - b);\n",
    "}"
   ]
  },
  {
   "cell_type": "code",
   "execution_count": null,
   "id": "cc8adb5f",
   "metadata": {},
   "outputs": [],
   "source": [
    "%%shell\n",
    "gcc ./2_sumsub.c\n",
    "./a.out"
   ]
  },
  {
   "cell_type": "code",
   "execution_count": null,
   "id": "ebbeeeb1",
   "metadata": {},
   "outputs": [],
   "source": [
    "%%writefile 3_weekdays.c\n",
    "#include <stdio.h>\n",
    "\n",
    "int main() {\n",
    "    int day;\n",
    "    printf(\"요일을 0(일요일)에서 6까지의 정수로 입력하시오: \");\n",
    "    scanf(\"%d\", &day);\n",
    "\n",
    "    if (!(day % 7) || day % 7 == 6)\n",
    "        printf(\"주말입니다\\n\");\n",
    "    else\n",
    "        printf(\"주중입니다.\\n\");\n",
    "}"
   ]
  },
  {
   "cell_type": "code",
   "execution_count": null,
   "id": "bc237b1c",
   "metadata": {},
   "outputs": [],
   "source": [
    "%%shell\n",
    "gcc ./3_weekdays.c\n",
    "./a.out"
   ]
  },
  {
   "cell_type": "code",
   "execution_count": null,
   "id": "6fdaebae",
   "metadata": {},
   "outputs": [],
   "source": [
    "%%writefile 4_findchar.c\n",
    "#include <stdio.h>\n",
    "\n",
    "int main() {\n",
    "    char input;\n",
    "    printf(\"문자를 입력하시오: \");\n",
    "    scanf(\"%c\", &input);\n",
    "\n",
    "    if (input >= 0x30 && input <= 0x39)\n",
    "        printf(\"숫자입니다.\\n\");\n",
    "    else if (input >= 0x41 && input <= 0x5A || input >= 0x61 && input <= 0x7A)\n",
    "        printf(\"알파벳입니다.\\n\");\n",
    "    else\n",
    "        printf(\"특수문자입니다.\\n\");\n",
    "}"
   ]
  },
  {
   "cell_type": "code",
   "execution_count": null,
   "id": "1f617f25",
   "metadata": {},
   "outputs": [],
   "source": [
    "%%shell\n",
    "gcc ./4_findchar.c\n",
    "./a.out"
   ]
  },
  {
   "cell_type": "code",
   "execution_count": null,
   "id": "9dab5c7f",
   "metadata": {},
   "outputs": [],
   "source": [
    "%%writefile 5_isCapitial.c\n",
    "#include <stdio.h>\n",
    "\n",
    "int main() {\n",
    "    char input;\n",
    "    printf(\"문자를 입력하시오: \");\n",
    "    scanf(\"%c\", &input);\n",
    "\n",
    "    if (input >= 0x41 && input <= 0x5A)\n",
    "        printf(\"대문자입니다.\\n\");\n",
    "    else if (input >= 0x61 && input <= 0x7A)\n",
    "        printf(\"소문자입니다.\\n\");\n",
    "    else\n",
    "        printf(\"알파벳이 아닙니다.\\n\");\n",
    "}"
   ]
  },
  {
   "cell_type": "code",
   "execution_count": null,
   "id": "e67a6198",
   "metadata": {},
   "outputs": [],
   "source": [
    "%%shell\n",
    "gcc ./5_isCapitial.c\n",
    "./a.out"
   ]
  },
  {
   "cell_type": "code",
   "execution_count": null,
   "id": "00ffa22c",
   "metadata": {},
   "outputs": [],
   "source": [
    "%%writefile 6_trafficLight.c\n",
    "#include <stdio.h>\n",
    "\n",
    "int main() {\n",
    "    char input;\n",
    "    printf(\"신호등의 색깔 입력(R, G, B): \");\n",
    "    scanf(\"%c\", &input);\n",
    "\n",
    "    if (input == 'R' || input == 'r')\n",
    "        printf(\"정지\\n\");\n",
    "    else if (input == 'G' || input == 'g')\n",
    "        printf(\"주의\\n\");\n",
    "    else if (input == 'B' || input == 'b')\n",
    "        printf(\"진행\\n\");\n",
    "    else\n",
    "        printf(\"잘못된 입력입니다.\\n\");\n",
    "}"
   ]
  },
  {
   "cell_type": "code",
   "execution_count": null,
   "id": "ef401914",
   "metadata": {},
   "outputs": [],
   "source": [
    "%%shell\n",
    "gcc ./6_trafficLight.c\n",
    "./a.out"
   ]
  },
  {
   "cell_type": "code",
   "execution_count": null,
   "id": "bff983bf",
   "metadata": {},
   "outputs": [],
   "source": [
    "%%writefile 7_triangle.c\n",
    "#include <stdio.h>\n",
    "\n",
    "int main() {\n",
    "    int a, b, c;\n",
    "    printf(\"삼각형의 세변을 입력하시오 (a, b, c): \");\n",
    "    scanf(\"%d %d %d\", &a, &b, &c);\n",
    "\n",
    "    if (a * a == b * b) {\n",
    "        if (a * a == c * c)\n",
    "            printf(\"정삼각형\\n\");\n",
    "        else\n",
    "            printf(\"이등변 삼각형\\n\");\n",
    "    } else if (b * b == c * c || a * a == c * c) {\n",
    "        printf(\"이등변 삼각형\\n\");\n",
    "    } else {\n",
    "        printf(\"삼각형\\n\");\n",
    "    }\n",
    "}"
   ]
  },
  {
   "cell_type": "code",
   "execution_count": null,
   "id": "17d586e1",
   "metadata": {},
   "outputs": [],
   "source": [
    "%%shell\n",
    "gcc ./7_triangle.c\n",
    "./a.out"
   ]
  },
  {
   "cell_type": "code",
   "execution_count": null,
   "id": "a046a1c3",
   "metadata": {},
   "outputs": [],
   "source": [
    "%%writefile 8_tax.c\n",
    "#include <stdio.h>\n",
    "\n",
    "int main() {\n",
    "    int income;\n",
    "    printf(\"과세 표준을 입력하시오(만원): \");\n",
    "    scanf(\"%d\", &income);\n",
    "\n",
    "    if (income <= 1000)\n",
    "        printf(\"소득세는 %.0f만원 입니다.\\n\", income * 0.08);\n",
    "    else if (income > 1000 && income <= 4000)\n",
    "        printf(\"소득세는 %.0f만원 입니다.\\n\",\n",
    "               (income - 1000) * 0.17 + 1000 * 0.08);\n",
    "    else if (income > 4000 && income <= 8000)\n",
    "        printf(\"소득세는 %.0f만원 입니다.\\n\",\n",
    "               (income - 1000) * 0.17 + 1000 * 0.26);\n",
    "    else\n",
    "        printf(\"소득세는 %.0f만원 입니다.\\n\",\n",
    "               (income - 1000) * 0.17 + 1000 * 0.35);\n",
    "}"
   ]
  },
  {
   "cell_type": "code",
   "execution_count": null,
   "id": "6564c320",
   "metadata": {},
   "outputs": [],
   "source": [
    "%%shell\n",
    "gcc ./8_tax.c\n",
    "./a.out"
   ]
  },
  {
   "cell_type": "code",
   "execution_count": null,
   "id": "677372ce",
   "metadata": {},
   "outputs": [],
   "source": [
    "%%writefile 9_eval.c\n",
    "#include <stdio.h>\n",
    "\n",
    "int main() {\n",
    "    int a, b;\n",
    "    char op;\n",
    "    printf(\"수식을 입력하시오: \");\n",
    "    scanf(\"%d %c %d\", &a, &op, &b);\n",
    "\n",
    "    switch (op) {\n",
    "    case '+':\n",
    "        printf(\"%d\\n\", a + b);\n",
    "        break;\n",
    "    case '-':\n",
    "        printf(\"%d\\n\", a - b);\n",
    "        break;\n",
    "    case '*':\n",
    "        printf(\"%d\\n\", a * b);\n",
    "        break;\n",
    "    case '/':\n",
    "        printf(\"%d\\n\", a / b);\n",
    "        break;\n",
    "    }\n",
    "}"
   ]
  },
  {
   "cell_type": "code",
   "execution_count": null,
   "id": "ba717fbf",
   "metadata": {},
   "outputs": [],
   "source": [
    "%%shell\n",
    "gcc ./9_eval.c\n",
    "./a.out"
   ]
  },
  {
   "cell_type": "code",
   "execution_count": null,
   "id": "818729ab",
   "metadata": {},
   "outputs": [],
   "source": [
    "%%writefile 10_grade.c\n",
    "#include <stdio.h>\n",
    "\n",
    "int main() {\n",
    "    char grade;\n",
    "    printf(\"수식을 입력하시오: \");\n",
    "    scanf(\"%c\", &grade);\n",
    "\n",
    "    switch (grade) {\n",
    "    case 'A':\n",
    "    case 'a':\n",
    "        printf(\"아주 잘했어요!\\n\");\n",
    "        break;\n",
    "\n",
    "    case 'B':\n",
    "    case 'b':\n",
    "        printf(\"좋습니다.\\n\");\n",
    "        break;\n",
    "\n",
    "    case 'C':\n",
    "    case 'c':\n",
    "        printf(\"만족스럽습니다.\\n\");\n",
    "        break;\n",
    "\n",
    "    case 'D':\n",
    "    case 'd':\n",
    "        printf(\"더 노력해보세요.\\n\");\n",
    "        break;\n",
    "\n",
    "    case 'F':\n",
    "    case 'f':\n",
    "        printf(\"안타깝습니다.\\n\");\n",
    "        break;\n",
    "\n",
    "    default:\n",
    "        fprintf(stderr, \"잘못된 입력값입니다.\\n\");\n",
    "    }\n",
    "}"
   ]
  },
  {
   "cell_type": "code",
   "execution_count": null,
   "id": "aa316719",
   "metadata": {},
   "outputs": [],
   "source": [
    "%%shell\n",
    "gcc ./10_grade.c\n",
    "./a.out"
   ]
  }
 ],
 "metadata": {},
 "nbformat": 4,
 "nbformat_minor": 5
}
