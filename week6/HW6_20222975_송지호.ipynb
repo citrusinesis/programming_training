{
  "cells": [
    {
      "cell_type": "code",
      "execution_count": 1,
      "id": "ac533c44",
      "metadata": {
        "colab": {
          "base_uri": "https://localhost:8080/"
        },
        "id": "ac533c44",
        "outputId": "bb521955-44ad-4b84-ba65-2b604cc2643f"
      },
      "outputs": [
        {
          "name": "stdout",
          "output_type": "stream",
          "text": [
            "Writing 1_launch.c\n"
          ]
        }
      ],
      "source": [
        "%%writefile 1_launch.c\n",
        "#include <stdio.h>\n",
        "#include <unistd.h>\n",
        "\n",
        "int main() {\n",
        "    for (int i = 60; i >= 0; i--) {\n",
        "        printf(\"%d \", i);\n",
        "        sleep(1);\n",
        "    }\n",
        "    printf(\"발사\\n\");\n",
        "}"
      ]
    },
    {
      "cell_type": "code",
      "execution_count": 2,
      "id": "500ec212",
      "metadata": {
        "colab": {
          "base_uri": "https://localhost:8080/"
        },
        "id": "500ec212",
        "outputId": "ef6d13a1-b806-4121-8ab6-f38a060b5226"
      },
      "outputs": [
        {
          "name": "stdout",
          "output_type": "stream",
          "text": [
            "60 59 58 57 56 55 54 53 52 51 50 49 48 47 46 45 44 43 42 41 40 39 38 37 36 35 34 33 32 31 30 29 28 27 26 25 24 23 22 21 20 19 18 17 16 15 14 13 12 11 10 9 8 7 6 5 4 3 2 1 0 발사\n"
          ]
        },
        {
          "data": {
            "text/plain": []
          },
          "execution_count": 2,
          "metadata": {},
          "output_type": "execute_result"
        }
      ],
      "source": [
        "%%shell\n",
        "gcc ./1_launch.c\n",
        "./a.out"
      ]
    },
    {
      "cell_type": "code",
      "execution_count": 3,
      "id": "e8c6be88",
      "metadata": {
        "colab": {
          "base_uri": "https://localhost:8080/"
        },
        "id": "e8c6be88",
        "outputId": "7ad6a1c0-a62f-4509-f96f-614ae217f638"
      },
      "outputs": [
        {
          "name": "stdout",
          "output_type": "stream",
          "text": [
            "Writing 2_hello.c\n"
          ]
        }
      ],
      "source": [
        "%%writefile 2_hello.c\n",
        "#include <stdio.h>\n",
        "\n",
        "int main() {\n",
        "    int input;\n",
        "    printf(\"몇 번이나 반복할까요?: \");\n",
        "    scanf(\"%d\", &input);\n",
        "\n",
        "    for (int i = 0; i < input; i++) {\n",
        "        printf(\"안녕하세요?\\n\");\n",
        "    }\n",
        "}"
      ]
    },
    {
      "cell_type": "code",
      "execution_count": 4,
      "id": "c3bd0977",
      "metadata": {
        "colab": {
          "base_uri": "https://localhost:8080/"
        },
        "id": "c3bd0977",
        "outputId": "6085e3e2-f47e-45ce-c154-16027bb69e6e"
      },
      "outputs": [
        {
          "name": "stdout",
          "output_type": "stream",
          "text": [
            "몇 번이나 반복할까요?: 3\n",
            "안녕하세요?\n",
            "안녕하세요?\n",
            "안녕하세요?\n"
          ]
        },
        {
          "data": {
            "text/plain": []
          },
          "execution_count": 4,
          "metadata": {},
          "output_type": "execute_result"
        }
      ],
      "source": [
        "%%shell\n",
        "gcc ./2_hello.c\n",
        "./a.out"
      ]
    },
    {
      "cell_type": "code",
      "execution_count": 5,
      "id": "030458b3",
      "metadata": {
        "colab": {
          "base_uri": "https://localhost:8080/"
        },
        "id": "030458b3",
        "outputId": "8978a930-48ac-4dce-e961-d383dc7fa894"
      },
      "outputs": [
        {
          "name": "stdout",
          "output_type": "stream",
          "text": [
            "Writing 3_star.c\n"
          ]
        }
      ],
      "source": [
        "%%writefile 3_star.c\n",
        "#include <stdio.h>\n",
        "\n",
        "int main() {\n",
        "    for (int i = 1; i <= 7; i++) {\n",
        "        for (int j = 1; j <= i; j++) {\n",
        "            printf(\"%d\", j);\n",
        "        }\n",
        "        for (int j = 1; j <= 7 - i; j++) {\n",
        "            printf(\"*\");\n",
        "        }\n",
        "        printf(\"\\n\");\n",
        "    }\n",
        "}"
      ]
    },
    {
      "cell_type": "code",
      "execution_count": 6,
      "id": "8010b2f3",
      "metadata": {
        "colab": {
          "base_uri": "https://localhost:8080/"
        },
        "id": "8010b2f3",
        "outputId": "67df8297-bcf1-43fc-80fb-52458ba946af"
      },
      "outputs": [
        {
          "name": "stdout",
          "output_type": "stream",
          "text": [
            "1******\n",
            "12*****\n",
            "123****\n",
            "1234***\n",
            "12345**\n",
            "123456*\n",
            "1234567\n"
          ]
        },
        {
          "data": {
            "text/plain": []
          },
          "execution_count": 6,
          "metadata": {},
          "output_type": "execute_result"
        }
      ],
      "source": [
        "%%shell\n",
        "gcc ./3_star.c\n",
        "./a.out"
      ]
    },
    {
      "cell_type": "code",
      "execution_count": 7,
      "id": "40069e4f",
      "metadata": {
        "colab": {
          "base_uri": "https://localhost:8080/"
        },
        "id": "40069e4f",
        "outputId": "3606b49a-45ae-42b8-fede-2f1adb9bd673"
      },
      "outputs": [
        {
          "name": "stdout",
          "output_type": "stream",
          "text": [
            "Writing 4_sum.c\n"
          ]
        }
      ],
      "source": [
        "%%writefile 4_sum.c\n",
        "#include <stdio.h>\n",
        "\n",
        "int main() {\n",
        "    int input, sum = 0;\n",
        "    while (1) {\n",
        "        printf(\"정수를 입력하시오: \");\n",
        "        scanf(\"%d\", &input);\n",
        "\n",
        "        if (!input)\n",
        "            break;\n",
        "        sum += input;\n",
        "    }\n",
        "    printf(\"합계=%d\\n\", sum);\n",
        "}"
      ]
    },
    {
      "cell_type": "code",
      "execution_count": 8,
      "id": "aac7530a",
      "metadata": {
        "colab": {
          "base_uri": "https://localhost:8080/"
        },
        "id": "aac7530a",
        "outputId": "a9f07788-e17a-46bb-bf70-5e24c3693e8a"
      },
      "outputs": [
        {
          "name": "stdout",
          "output_type": "stream",
          "text": [
            "정수를 입력하시오: 10\n",
            "정수를 입력하시오: 20\n",
            "정수를 입력하시오: 30\n",
            "정수를 입력하시오: 0\n",
            "합계=60\n"
          ]
        },
        {
          "data": {
            "text/plain": []
          },
          "execution_count": 8,
          "metadata": {},
          "output_type": "execute_result"
        }
      ],
      "source": [
        "%%shell\n",
        "gcc ./4_sum.c\n",
        "./a.out"
      ]
    },
    {
      "cell_type": "code",
      "execution_count": 9,
      "id": "79dfb5a8",
      "metadata": {
        "colab": {
          "base_uri": "https://localhost:8080/"
        },
        "id": "79dfb5a8",
        "outputId": "4dec34a4-be23-4204-ef86-0b708fd2f0d9"
      },
      "outputs": [
        {
          "name": "stdout",
          "output_type": "stream",
          "text": [
            "Writing 5_multiply.c\n"
          ]
        }
      ],
      "source": [
        "%%writefile 5_multiply.c\n",
        "#include <stdio.h>\n",
        "\n",
        "int main() {\n",
        "    for (int i = 1; i <= 100; i++) {\n",
        "        if (!(i % 3))\n",
        "            printf(\"%d \", i);\n",
        "    }\n",
        "}"
      ]
    },
    {
      "cell_type": "code",
      "execution_count": 10,
      "id": "034591f9",
      "metadata": {
        "colab": {
          "base_uri": "https://localhost:8080/"
        },
        "id": "034591f9",
        "outputId": "b6597dab-074d-4c4e-81c3-71e2223df2f1"
      },
      "outputs": [
        {
          "name": "stdout",
          "output_type": "stream",
          "text": [
            "3 6 9 12 15 18 21 24 27 30 33 36 39 42 45 48 51 54 57 60 63 66 69 72 75 78 81 84 87 90 93 96 99 "
          ]
        },
        {
          "data": {
            "text/plain": []
          },
          "execution_count": 10,
          "metadata": {},
          "output_type": "execute_result"
        }
      ],
      "source": [
        "%%shell\n",
        "gcc ./5_multiply.c\n",
        "./a.out"
      ]
    },
    {
      "cell_type": "code",
      "execution_count": 11,
      "id": "1cb49dea",
      "metadata": {
        "colab": {
          "base_uri": "https://localhost:8080/"
        },
        "id": "1cb49dea",
        "outputId": "ffe725de-3e2e-4227-f75b-5ffa52365e4b"
      },
      "outputs": [
        {
          "name": "stdout",
          "output_type": "stream",
          "text": [
            "Writing 6_multi2.c\n"
          ]
        }
      ],
      "source": [
        "%%writefile 6_multi2.c\n",
        "#include <stdio.h>\n",
        "\n",
        "int main() {\n",
        "    for (int i = 1; i <= 100; i++) {\n",
        "        if (!(i % 3) && !(i % 5))\n",
        "            printf(\"%d \", i);\n",
        "    }\n",
        "}"
      ]
    },
    {
      "cell_type": "code",
      "execution_count": 12,
      "id": "83e037b4",
      "metadata": {
        "colab": {
          "base_uri": "https://localhost:8080/"
        },
        "id": "83e037b4",
        "outputId": "0f84ae61-eeee-4450-9734-5b665e65409d"
      },
      "outputs": [
        {
          "name": "stdout",
          "output_type": "stream",
          "text": [
            "15 30 45 60 75 90 "
          ]
        },
        {
          "data": {
            "text/plain": []
          },
          "execution_count": 12,
          "metadata": {},
          "output_type": "execute_result"
        }
      ],
      "source": [
        "%%shell\n",
        "gcc ./6_multi2.c\n",
        "./a.out"
      ]
    },
    {
      "cell_type": "code",
      "execution_count": 13,
      "id": "b9fbfccd",
      "metadata": {
        "colab": {
          "base_uri": "https://localhost:8080/"
        },
        "id": "b9fbfccd",
        "outputId": "c0ef0578-8252-4bb5-ff22-568ce55b367a"
      },
      "outputs": [
        {
          "name": "stdout",
          "output_type": "stream",
          "text": [
            "Writing 7_sum2.c\n"
          ]
        }
      ],
      "source": [
        "%%writefile 7_sum2.c\n",
        "#include <stdio.h>\n",
        "\n",
        "int main() {\n",
        "    int start, end, sum = 0;\n",
        "    printf(\"시작정수: \");\n",
        "    scanf(\"%d\", &start);\n",
        "    printf(\"종료정수: \");\n",
        "    scanf(\"%d\", &end);\n",
        "\n",
        "    for (int i = start; i <= end; i++) {\n",
        "        sum += i;\n",
        "    }\n",
        "    printf(\"%d에서 %d까지의 합 = %d\\n\", start, end, sum);\n",
        "}"
      ]
    },
    {
      "cell_type": "code",
      "execution_count": 14,
      "id": "2444da67",
      "metadata": {
        "colab": {
          "base_uri": "https://localhost:8080/"
        },
        "id": "2444da67",
        "outputId": "366df0ff-26d7-45f7-caa8-c88e213f59c0"
      },
      "outputs": [
        {
          "name": "stdout",
          "output_type": "stream",
          "text": [
            "시작정수: 1\n",
            "종료정수: 10\n",
            "1에서 10까지의 합 = 55\n"
          ]
        },
        {
          "data": {
            "text/plain": []
          },
          "execution_count": 14,
          "metadata": {},
          "output_type": "execute_result"
        }
      ],
      "source": [
        "%%shell\n",
        "gcc ./7_sum2.c\n",
        "./a.out"
      ]
    },
    {
      "cell_type": "code",
      "execution_count": 15,
      "id": "f382ec04",
      "metadata": {
        "colab": {
          "base_uri": "https://localhost:8080/"
        },
        "id": "f382ec04",
        "outputId": "01682057-23d8-4bd9-bab9-e48e0b4075d5"
      },
      "outputs": [
        {
          "name": "stdout",
          "output_type": "stream",
          "text": [
            "Writing 8_ascii.c\n"
          ]
        }
      ],
      "source": [
        "%%writefile 8_ascii.c\n",
        "#include <stdio.h>\n",
        "\n",
        "int main() {\n",
        "    for (int i = 65; i <= 90; i++) {\n",
        "        printf(\"%3d: %c\\n\", i, i);\n",
        "    }\n",
        "    for (int i = 97; i <= 122; i++) {\n",
        "        printf(\"%3d: %c\\n\", i, i);\n",
        "    }\n",
        "}"
      ]
    },
    {
      "cell_type": "code",
      "execution_count": 16,
      "id": "cbcf4f08",
      "metadata": {
        "colab": {
          "base_uri": "https://localhost:8080/"
        },
        "id": "cbcf4f08",
        "outputId": "37f4f72d-86fe-4413-d51c-4c2e7f1cdcfe"
      },
      "outputs": [
        {
          "name": "stdout",
          "output_type": "stream",
          "text": [
            " 65: A\n",
            " 66: B\n",
            " 67: C\n",
            " 68: D\n",
            " 69: E\n",
            " 70: F\n",
            " 71: G\n",
            " 72: H\n",
            " 73: I\n",
            " 74: J\n",
            " 75: K\n",
            " 76: L\n",
            " 77: M\n",
            " 78: N\n",
            " 79: O\n",
            " 80: P\n",
            " 81: Q\n",
            " 82: R\n",
            " 83: S\n",
            " 84: T\n",
            " 85: U\n",
            " 86: V\n",
            " 87: W\n",
            " 88: X\n",
            " 89: Y\n",
            " 90: Z\n",
            " 97: a\n",
            " 98: b\n",
            " 99: c\n",
            "100: d\n",
            "101: e\n",
            "102: f\n",
            "103: g\n",
            "104: h\n",
            "105: i\n",
            "106: j\n",
            "107: k\n",
            "108: l\n",
            "109: m\n",
            "110: n\n",
            "111: o\n",
            "112: p\n",
            "113: q\n",
            "114: r\n",
            "115: s\n",
            "116: t\n",
            "117: u\n",
            "118: v\n",
            "119: w\n",
            "120: x\n",
            "121: y\n",
            "122: z\n"
          ]
        },
        {
          "data": {
            "text/plain": []
          },
          "execution_count": 16,
          "metadata": {},
          "output_type": "execute_result"
        }
      ],
      "source": [
        "%%shell\n",
        "gcc ./8_ascii.c\n",
        "./a.out"
      ]
    },
    {
      "cell_type": "code",
      "execution_count": 17,
      "id": "19b0647e",
      "metadata": {
        "colab": {
          "base_uri": "https://localhost:8080/"
        },
        "id": "19b0647e",
        "outputId": "4dca1017-2acf-485c-b49f-4849590cf50a"
      },
      "outputs": [
        {
          "name": "stdout",
          "output_type": "stream",
          "text": [
            "Writing 9_aCount.c\n"
          ]
        }
      ],
      "source": [
        "%%writefile 9_aCount.c\n",
        "#include <stdio.h>\n",
        "\n",
        "int main() {\n",
        "    int count = 0;\n",
        "    char input;\n",
        "    while (1) {\n",
        "        printf(\"문자를 입력하시오: (종료 .) \");\n",
        "        input = getchar();\n",
        "        if (input == 'a')\n",
        "            count++;\n",
        "        else if (input == '.')\n",
        "            break;\n",
        "        getchar();\n",
        "    }\n",
        "    printf(\"a의 개수 = %d\", count);\n",
        "}"
      ]
    },
    {
      "cell_type": "code",
      "execution_count": 18,
      "id": "7f8f4c9d",
      "metadata": {
        "colab": {
          "base_uri": "https://localhost:8080/"
        },
        "id": "7f8f4c9d",
        "outputId": "373b1791-0f6a-468c-8e49-840d595b1e70"
      },
      "outputs": [
        {
          "name": "stdout",
          "output_type": "stream",
          "text": [
            "문자를 입력하시오: (종료 .) a\n",
            "문자를 입력하시오: (종료 .) a\n",
            "문자를 입력하시오: (종료 .) b\n",
            "문자를 입력하시오: (종료 .) .\n",
            "a의 개수 = 2"
          ]
        },
        {
          "data": {
            "text/plain": []
          },
          "execution_count": 18,
          "metadata": {},
          "output_type": "execute_result"
        }
      ],
      "source": [
        "%%shell\n",
        "gcc ./9_aCount.c\n",
        "./a.out"
      ]
    },
    {
      "cell_type": "code",
      "execution_count": 19,
      "id": "1ceb2488",
      "metadata": {
        "colab": {
          "base_uri": "https://localhost:8080/"
        },
        "id": "1ceb2488",
        "outputId": "f61cc9cb-727a-401c-db70-9b7b0dba9461"
      },
      "outputs": [
        {
          "name": "stdout",
          "output_type": "stream",
          "text": [
            "Writing 10_temp.c\n"
          ]
        }
      ],
      "source": [
        "%%writefile 10_temp.c\n",
        "#include <stdio.h>\n",
        "\n",
        "int main() {\n",
        "    printf(\"=================\\n\");\n",
        "    printf(\"화씨온도   섭씨온도\\n\");\n",
        "    printf(\"=================\\n\");\n",
        "\n",
        "    for (int i = 0; i <= 100; i += 10) {\n",
        "        printf(\"%d  %d\\n\", i, (i - 32) * 5 / 9);\n",
        "    }\n",
        "}"
      ]
    },
    {
      "cell_type": "code",
      "execution_count": 20,
      "id": "545ef027",
      "metadata": {
        "colab": {
          "base_uri": "https://localhost:8080/"
        },
        "id": "545ef027",
        "outputId": "2554f7ec-94dd-450b-c82a-fc9e0bc0c5ca"
      },
      "outputs": [
        {
          "name": "stdout",
          "output_type": "stream",
          "text": [
            "=================\n",
            "화씨온도   섭씨온도\n",
            "=================\n",
            "0  -17\n",
            "10  -12\n",
            "20  -6\n",
            "30  -1\n",
            "40  4\n",
            "50  10\n",
            "60  15\n",
            "70  21\n",
            "80  26\n",
            "90  32\n",
            "100  37\n"
          ]
        },
        {
          "data": {
            "text/plain": []
          },
          "execution_count": 20,
          "metadata": {},
          "output_type": "execute_result"
        }
      ],
      "source": [
        "%%shell\n",
        "gcc ./10_temp.c\n",
        "./a.out"
      ]
    },
    {
      "cell_type": "code",
      "execution_count": 21,
      "id": "1049df40",
      "metadata": {
        "colab": {
          "base_uri": "https://localhost:8080/"
        },
        "id": "1049df40",
        "outputId": "668189e0-2448-40b9-d02e-45ec712561a8"
      },
      "outputs": [
        {
          "name": "stdout",
          "output_type": "stream",
          "text": [
            "Writing 11_tri.c\n"
          ]
        }
      ],
      "source": [
        "%%writefile 11_tri.c\n",
        "#include <stdio.h>\n",
        "\n",
        "int main() {\n",
        "    int input;\n",
        "    printf(\"정수를 입력하시오: \");\n",
        "    scanf(\"%d\", &input);\n",
        "\n",
        "    for (int i = 1; i <= input; i++) {\n",
        "        for (int j = 1; j <= i; j++) {\n",
        "            printf(\"%d \", j);\n",
        "        }\n",
        "        printf(\"\\n\");\n",
        "    }\n",
        "}"
      ]
    },
    {
      "cell_type": "code",
      "execution_count": 22,
      "id": "b132cec3",
      "metadata": {
        "colab": {
          "base_uri": "https://localhost:8080/"
        },
        "id": "b132cec3",
        "outputId": "eff2538c-8907-4133-dbec-9ba203189761"
      },
      "outputs": [
        {
          "name": "stdout",
          "output_type": "stream",
          "text": [
            "정수를 입력하시오: 5\n",
            "1 \n",
            "1 2 \n",
            "1 2 3 \n",
            "1 2 3 4 \n",
            "1 2 3 4 5 \n"
          ]
        },
        {
          "data": {
            "text/plain": []
          },
          "execution_count": 22,
          "metadata": {},
          "output_type": "execute_result"
        }
      ],
      "source": [
        "%%shell\n",
        "gcc ./11_tri.c\n",
        "./a.out"
      ]
    },
    {
      "cell_type": "code",
      "execution_count": 23,
      "id": "4e46d7e0",
      "metadata": {
        "colab": {
          "base_uri": "https://localhost:8080/"
        },
        "id": "4e46d7e0",
        "outputId": "e9ce76a4-3b68-4187-df3a-bff5f1d5bb61"
      },
      "outputs": [
        {
          "name": "stdout",
          "output_type": "stream",
          "text": [
            "Writing 12_graph.c\n"
          ]
        }
      ],
      "source": [
        "%%writefile 12_graph.c\n",
        "#include <stdio.h>\n",
        "\n",
        "int main() {\n",
        "    int input;\n",
        "    for (int i = 0; i < 10; i++) {\n",
        "        printf(\"데이터를 입력하시오: \");\n",
        "        scanf(\"%d\", &input);\n",
        "\n",
        "        for (int j = 0; j < input; j++)\n",
        "            printf(\"*\");\n",
        "        printf(\"\\n\");\n",
        "    }\n",
        "}"
      ]
    },
    {
      "cell_type": "code",
      "execution_count": 24,
      "id": "d914e45e",
      "metadata": {
        "colab": {
          "base_uri": "https://localhost:8080/"
        },
        "id": "d914e45e",
        "outputId": "692aede0-57e0-457e-b38e-835692359eca"
      },
      "outputs": [
        {
          "name": "stdout",
          "output_type": "stream",
          "text": [
            "데이터를 입력하시오: 10\n",
            "**********\n",
            "데이터를 입력하시오: 9\n",
            "*********\n",
            "데이터를 입력하시오: 8\n",
            "********\n",
            "데이터를 입력하시오: 7\n",
            "*******\n",
            "데이터를 입력하시오: 6\n",
            "******\n",
            "데이터를 입력하시오: 5\n",
            "*****\n",
            "데이터를 입력하시오: 4\n",
            "****\n",
            "데이터를 입력하시오: 3\n",
            "***\n",
            "데이터를 입력하시오: 2\n",
            "**\n",
            "데이터를 입력하시오: 1\n",
            "*\n"
          ]
        },
        {
          "data": {
            "text/plain": []
          },
          "execution_count": 24,
          "metadata": {},
          "output_type": "execute_result"
        }
      ],
      "source": [
        "%%shell\n",
        "gcc ./12_graph.c\n",
        "./a.out"
      ]
    },
    {
      "cell_type": "code",
      "execution_count": 34,
      "id": "e522d985",
      "metadata": {
        "colab": {
          "base_uri": "https://localhost:8080/"
        },
        "id": "e522d985",
        "outputId": "0a1d7104-334f-4b9d-a237-dfbe5fb78ddf"
      },
      "outputs": [
        {
          "name": "stdout",
          "output_type": "stream",
          "text": [
            "Overwriting 13_fib.c\n"
          ]
        }
      ],
      "source": [
        "%%writefile 13_fib.c\n",
        "#include <stdio.h>\n",
        "\n",
        "int main() {\n",
        "    int f0 = 0, f1 = 1, f2 = 0, input;\n",
        "    printf(\"몇번째 항까지 구할까요? \");\n",
        "    scanf(\"%d\", &input);\n",
        "    for (int i = 0; i < input; i++) {\n",
        "        if (i == 0) {\n",
        "            printf(\"0, \");\n",
        "            continue;\n",
        "        } else if (i == 1) {\n",
        "            printf(\"1, \");\n",
        "            continue;\n",
        "        }\n",
        "\n",
        "        f0 = f1 + f2;\n",
        "        printf(\"%d, \", f0);\n",
        "        f2 = f1;\n",
        "        f1 = f0;\n",
        "    }\n",
        "    printf(\"\\b\\b\");\n",
        "}"
      ]
    },
    {
      "cell_type": "code",
      "execution_count": 35,
      "id": "49809770",
      "metadata": {
        "colab": {
          "base_uri": "https://localhost:8080/"
        },
        "id": "49809770",
        "outputId": "813cf982-c2f3-47cc-e37f-5f085a486457"
      },
      "outputs": [
        {
          "name": "stdout",
          "output_type": "stream",
          "text": [
            "몇번째 항까지 구할까요? 10\n",
            "0, 1, 1, 2, 3, 5, 8, 13, 21, 34, \b\b"
          ]
        },
        {
          "data": {
            "text/plain": []
          },
          "execution_count": 35,
          "metadata": {},
          "output_type": "execute_result"
        }
      ],
      "source": [
        "%%shell\n",
        "gcc ./13_fib.c\n",
        "./a.out"
      ]
    },
    {
      "cell_type": "code",
      "execution_count": 27,
      "id": "707bc437",
      "metadata": {
        "colab": {
          "base_uri": "https://localhost:8080/"
        },
        "id": "707bc437",
        "outputId": "e1bff68c-9da8-4f78-d407-fb95f25e0786"
      },
      "outputs": [
        {
          "name": "stdout",
          "output_type": "stream",
          "text": [
            "Writing 14_square.c\n"
          ]
        }
      ],
      "source": [
        "%%writefile 14_square.c\n",
        "#include <stdio.h>\n",
        "\n",
        "int main() {\n",
        "    int input, sum = 0;\n",
        "    printf(\"n의 값을 입력하시오: \");\n",
        "    scanf(\"%d\", &input);\n",
        "\n",
        "    for (int i = 1; i <= input; i++) {\n",
        "        sum += i * i;\n",
        "    }\n",
        "    printf(\"계산값은 %d입니다.\\n\", sum);\n",
        "}"
      ]
    },
    {
      "cell_type": "code",
      "execution_count": 36,
      "id": "8a961c00",
      "metadata": {
        "colab": {
          "base_uri": "https://localhost:8080/"
        },
        "id": "8a961c00",
        "outputId": "6e160c26-e475-4713-905e-b55aebdc18a7"
      },
      "outputs": [
        {
          "name": "stdout",
          "output_type": "stream",
          "text": [
            "n의 값을 입력하시오: 10\n",
            "계산값은 385입니다.\n"
          ]
        },
        {
          "data": {
            "text/plain": []
          },
          "execution_count": 36,
          "metadata": {},
          "output_type": "execute_result"
        }
      ],
      "source": [
        "%%shell\n",
        "gcc ./14_square.c\n",
        "./a.out"
      ]
    },
    {
      "cell_type": "code",
      "execution_count": 37,
      "id": "94b8988e",
      "metadata": {
        "colab": {
          "base_uri": "https://localhost:8080/"
        },
        "id": "94b8988e",
        "outputId": "52c097da-9f2a-43c8-da34-3cddb261d046"
      },
      "outputs": [
        {
          "name": "stdout",
          "output_type": "stream",
          "text": [
            "Writing 15_fuel.c\n"
          ]
        }
      ],
      "source": [
        "%%writefile 15_fuel.c\n",
        "#include <stdio.h>\n",
        "\n",
        "int main() {\n",
        "    double input, fuel = 1000;\n",
        "\n",
        "    printf(\"초기연료량: %.0lf\\n\", fuel);\n",
        "    while (1) {\n",
        "        printf(\"연료 충전은 +, 연료 소모는 -로 입력해주세요: \");\n",
        "        scanf(\"%lf\", &input);\n",
        "\n",
        "        fuel += input;\n",
        "        printf(\"현재 남아있는 양은 %lf입니다.\\n\", fuel);\n",
        "        if (fuel < 100) {\n",
        "            printf(\"(경고) 연료가 10%%미만입니다.\\n\");\n",
        "            break;\n",
        "        }\n",
        "    }\n",
        "}"
      ]
    },
    {
      "cell_type": "code",
      "execution_count": 38,
      "id": "e22c7be4",
      "metadata": {
        "colab": {
          "base_uri": "https://localhost:8080/"
        },
        "id": "e22c7be4",
        "outputId": "b35a8a32-6f92-48b6-c256-218d109f1acf"
      },
      "outputs": [
        {
          "name": "stdout",
          "output_type": "stream",
          "text": [
            "초기연료량: 1000\n",
            "연료 충전은 +, 연료 소모는 -로 입력해주세요: +300\n",
            "현재 남아있는 양은 1300.000000입니다.\n",
            "연료 충전은 +, 연료 소모는 -로 입력해주세요: -1250\n",
            "현재 남아있는 양은 50.000000입니다.\n",
            "(경고) 연료가 10%미만입니다.\n"
          ]
        },
        {
          "data": {
            "text/plain": []
          },
          "execution_count": 38,
          "metadata": {},
          "output_type": "execute_result"
        }
      ],
      "source": [
        "%%shell\n",
        "gcc ./15_fuel.c\n",
        "./a.out"
      ]
    },
    {
      "cell_type": "code",
      "execution_count": 39,
      "id": "abf4eb10",
      "metadata": {
        "colab": {
          "base_uri": "https://localhost:8080/"
        },
        "id": "abf4eb10",
        "outputId": "1e3f5a94-8251-4936-857f-e6091a5770e9"
      },
      "outputs": [
        {
          "name": "stdout",
          "output_type": "stream",
          "text": [
            "Writing 16_prime.c\n"
          ]
        }
      ],
      "source": [
        "%%writefile 16_prime.c\n",
        "#include <math.h>\n",
        "#include <stdio.h>\n",
        "#include <stdlib.h>\n",
        "\n",
        "int main() {\n",
        "    int input;\n",
        "    printf(\"정수를 입력하시오: \");\n",
        "    scanf(\"%d\", &input);\n",
        "\n",
        "    if (input == 1) {\n",
        "        printf(\"%d는 소수가 아닙니다.\\n\", input);\n",
        "        exit(0);\n",
        "    }\n",
        "    for (int i = 2; i < sqrt(input); i++) {\n",
        "        if (input % i == 0) {\n",
        "            printf(\"%d는 소수가 아닙니다.\\n\", input);\n",
        "            exit(0);\n",
        "        }\n",
        "    }\n",
        "    printf(\"%d는 소수입니다.\\n\", input);\n",
        "}"
      ]
    },
    {
      "cell_type": "code",
      "execution_count": 40,
      "id": "bc51e6ce",
      "metadata": {
        "colab": {
          "base_uri": "https://localhost:8080/"
        },
        "id": "bc51e6ce",
        "outputId": "fe66657a-6dd1-479c-b081-6b9578a3eb37"
      },
      "outputs": [
        {
          "name": "stdout",
          "output_type": "stream",
          "text": [
            "정수를 입력하시오: 93\n",
            "93는 소수가 아닙니다.\n"
          ]
        },
        {
          "data": {
            "text/plain": []
          },
          "execution_count": 40,
          "metadata": {},
          "output_type": "execute_result"
        }
      ],
      "source": [
        "%%shell\n",
        "gcc ./16_prime.c -lm\n",
        "./a.out"
      ]
    },
    {
      "cell_type": "code",
      "execution_count": 50,
      "id": "fbec96d1",
      "metadata": {
        "colab": {
          "base_uri": "https://localhost:8080/"
        },
        "id": "fbec96d1",
        "outputId": "f47c2593-8e0f-4f39-f054-77aebeac0cb6"
      },
      "outputs": [
        {
          "name": "stdout",
          "output_type": "stream",
          "text": [
            "Overwriting 17_tri2.c\n"
          ]
        }
      ],
      "source": [
        "%%writefile 17_tri2.c\n",
        "#include <stdio.h>\n",
        "\n",
        "int main() {\n",
        "    int cnt = 0;\n",
        "    for (int a = 1; a <= 100; a++) {\n",
        "        for (int b = 1; b <= a; b++) {\n",
        "            for (int c = 1; c <= a + b; c++) {\n",
        "                if (c < a || c < b)\n",
        "                    continue;\n",
        "                else if (c * c == a * a + b * b) {\n",
        "                    printf(\"%d %d %d\\n\", b, a, c);\n",
        "                    cnt++;\n",
        "                }\n",
        "            }\n",
        "        }\n",
        "    }\n",
        "    printf(\"피타고라스 수의 개수 = %d\\n\", cnt);\n",
        "}"
      ]
    },
    {
      "cell_type": "code",
      "execution_count": 51,
      "id": "daf2fb53",
      "metadata": {
        "colab": {
          "base_uri": "https://localhost:8080/"
        },
        "id": "daf2fb53",
        "outputId": "3102c53d-ecc0-4035-fddc-07884f1ec08a"
      },
      "outputs": [
        {
          "name": "stdout",
          "output_type": "stream",
          "text": [
            "3 4 5\n",
            "6 8 10\n",
            "5 12 13\n",
            "9 12 15\n",
            "8 15 17\n",
            "12 16 20\n",
            "15 20 25\n",
            "20 21 29\n",
            "7 24 25\n",
            "10 24 26\n",
            "18 24 30\n",
            "21 28 35\n",
            "16 30 34\n",
            "24 32 40\n",
            "12 35 37\n",
            "15 36 39\n",
            "27 36 45\n",
            "9 40 41\n",
            "30 40 50\n",
            "40 42 58\n",
            "33 44 55\n",
            "24 45 51\n",
            "28 45 53\n",
            "14 48 50\n",
            "20 48 52\n",
            "36 48 60\n",
            "39 52 65\n",
            "48 55 73\n",
            "33 56 65\n",
            "42 56 70\n",
            "11 60 61\n",
            "25 60 65\n",
            "32 60 68\n",
            "45 60 75\n",
            "16 63 65\n",
            "60 63 87\n",
            "48 64 80\n",
            "51 68 85\n",
            "24 70 74\n",
            "21 72 75\n",
            "30 72 78\n",
            "54 72 90\n",
            "65 72 97\n",
            "40 75 85\n",
            "57 76 95\n",
            "36 77 85\n",
            "18 80 82\n",
            "39 80 89\n",
            "60 80 100\n",
            "13 84 85\n",
            "35 84 91\n",
            "63 84 105\n",
            "80 84 116\n",
            "66 88 110\n",
            "48 90 102\n",
            "56 90 106\n",
            "60 91 109\n",
            "69 92 115\n",
            "28 96 100\n",
            "40 96 104\n",
            "72 96 120\n",
            "20 99 101\n",
            "75 100 125\n",
            "피타고라스 수의 개수 = 63\n"
          ]
        },
        {
          "data": {
            "text/plain": []
          },
          "execution_count": 51,
          "metadata": {},
          "output_type": "execute_result"
        }
      ],
      "source": [
        "%%shell\n",
        "gcc ./17_tri2.c\n",
        "./a.out"
      ]
    },
    {
      "cell_type": "code",
      "execution_count": 43,
      "id": "ee61683d",
      "metadata": {
        "colab": {
          "base_uri": "https://localhost:8080/"
        },
        "id": "ee61683d",
        "outputId": "81f59d17-0639-48e8-b747-fb734a0ff022"
      },
      "outputs": [
        {
          "name": "stdout",
          "output_type": "stream",
          "text": [
            "Writing 18_gamble.c\n"
          ]
        }
      ],
      "source": [
        "%%writefile 18_gamble.c\n",
        "#include <stdio.h>\n",
        "#include <stdlib.h>\n",
        "#include <time.h>\n",
        "#define GOAL 250\n",
        "\n",
        "int main() {\n",
        "    int wallet = 50, bets = 0, win = 0;\n",
        "    srand(time(NULL));\n",
        "\n",
        "    printf(\"초기 금액 $%d\\n목표 금액 $%d\\n\", wallet, GOAL);\n",
        "    while (wallet > 0 && wallet < GOAL) {\n",
        "        bets++;\n",
        "        if ((double)rand() / RAND_MAX < 0.5) {\n",
        "            wallet++;\n",
        "            win++;\n",
        "        } else\n",
        "            wallet--;\n",
        "    }\n",
        "\n",
        "    printf(\"%d중의 %d번 승리\\n\", bets, win);\n",
        "    printf(\"이긴 확률=%lf%%\\n\", (double)win / (double)bets * 100.0);\n",
        "}"
      ]
    },
    {
      "cell_type": "code",
      "execution_count": 44,
      "id": "5780c250",
      "metadata": {
        "colab": {
          "base_uri": "https://localhost:8080/"
        },
        "id": "5780c250",
        "outputId": "6a8bf5ee-7f8d-41ec-97b1-bfd3785a5b6d"
      },
      "outputs": [
        {
          "name": "stdout",
          "output_type": "stream",
          "text": [
            "초기 금액 $50\n",
            "목표 금액 $250\n",
            "1132중의 541번 승리\n",
            "이긴 확률=47.791519%\n"
          ]
        },
        {
          "data": {
            "text/plain": []
          },
          "execution_count": 44,
          "metadata": {},
          "output_type": "execute_result"
        }
      ],
      "source": [
        "%%shell\n",
        "gcc ./18_gamble.c\n",
        "./a.out"
      ]
    },
    {
      "cell_type": "code",
      "execution_count": 45,
      "id": "b6636511",
      "metadata": {
        "colab": {
          "base_uri": "https://localhost:8080/"
        },
        "id": "b6636511",
        "outputId": "1b120347-128d-41d2-88d9-dc8a84f741de"
      },
      "outputs": [
        {
          "name": "stdout",
          "output_type": "stream",
          "text": [
            "Writing 19_pi.c\n"
          ]
        }
      ],
      "source": [
        "%%writefile 19_pi.c\n",
        "#include <stdio.h>\n",
        "\n",
        "int main() {\n",
        "    int input;\n",
        "    double pi = 0;\n",
        "\n",
        "    printf(\"반복횟수: \");\n",
        "    scanf(\"%d\", &input);\n",
        "\n",
        "    for (int i = 1; i <= input; i++) {\n",
        "        if (i % 2)\n",
        "            pi += 4.0 / (2.0 * (double)i - 1);\n",
        "        else\n",
        "            pi -= 4.0 / (2.0 * (double)i - 1);\n",
        "    }\n",
        "\n",
        "    printf(\"Pi = %lf\\n\", pi);\n",
        "}"
      ]
    },
    {
      "cell_type": "code",
      "execution_count": 46,
      "id": "25cb05f5",
      "metadata": {
        "colab": {
          "base_uri": "https://localhost:8080/"
        },
        "id": "25cb05f5",
        "outputId": "a18aaeda-552c-44d6-9813-8f6821394f56"
      },
      "outputs": [
        {
          "name": "stdout",
          "output_type": "stream",
          "text": [
            "반복횟수: 1000000\n",
            "Pi = 3.141592\n"
          ]
        },
        {
          "data": {
            "text/plain": []
          },
          "execution_count": 46,
          "metadata": {},
          "output_type": "execute_result"
        }
      ],
      "source": [
        "%%shell\n",
        "gcc ./19_pi.c\n",
        "./a.out"
      ]
    }
  ],
  "metadata": {
    "colab": {
      "collapsed_sections": [],
      "provenance": []
    },
    "kernelspec": {
      "display_name": "Python 3.8.10 64-bit",
      "language": "python",
      "name": "python3"
    },
    "language_info": {
      "name": "python",
      "version": "3.8.10"
    },
    "vscode": {
      "interpreter": {
        "hash": "916dbcbb3f70747c44a77c7bcd40155683ae19c65e1c03b4aa3499c5328201f1"
      }
    }
  },
  "nbformat": 4,
  "nbformat_minor": 5
}
