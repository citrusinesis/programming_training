{
  "cells": [
    {
      "cell_type": "code",
      "execution_count": 1,
      "id": "32a5f692",
      "metadata": {
        "colab": {
          "base_uri": "https://localhost:8080/"
        },
        "id": "32a5f692",
        "outputId": "ad93c501-184b-4031-819e-1c5a3b879344"
      },
      "outputs": [
        {
          "output_type": "stream",
          "name": "stdout",
          "text": [
            "Writing 1_repeat.c\n"
          ]
        }
      ],
      "source": [
        "%%writefile 1_repeat.c\n",
        "#include <stdio.h>\n",
        "\n",
        "int main() {\n",
        "    int i = 0;\n",
        "    while (i < 10) {\n",
        "        printf(\"수업 시간에 떠들지 않겠습니다.\\n\");\n",
        "        printf(\"i는 %d\\n\", i);\n",
        "        i++;\n",
        "    }\n",
        "}"
      ]
    },
    {
      "cell_type": "code",
      "execution_count": 2,
      "id": "5771738f",
      "metadata": {
        "colab": {
          "base_uri": "https://localhost:8080/"
        },
        "id": "5771738f",
        "outputId": "444327cb-4274-44e6-8009-63316e9f06d9"
      },
      "outputs": [
        {
          "output_type": "stream",
          "name": "stdout",
          "text": [
            "수업 시간에 떠들지 않겠습니다.\n",
            "i는 0\n",
            "수업 시간에 떠들지 않겠습니다.\n",
            "i는 1\n",
            "수업 시간에 떠들지 않겠습니다.\n",
            "i는 2\n",
            "수업 시간에 떠들지 않겠습니다.\n",
            "i는 3\n",
            "수업 시간에 떠들지 않겠습니다.\n",
            "i는 4\n",
            "수업 시간에 떠들지 않겠습니다.\n",
            "i는 5\n",
            "수업 시간에 떠들지 않겠습니다.\n",
            "i는 6\n",
            "수업 시간에 떠들지 않겠습니다.\n",
            "i는 7\n",
            "수업 시간에 떠들지 않겠습니다.\n",
            "i는 8\n",
            "수업 시간에 떠들지 않겠습니다.\n",
            "i는 9\n"
          ]
        },
        {
          "output_type": "execute_result",
          "data": {
            "text/plain": []
          },
          "metadata": {},
          "execution_count": 2
        }
      ],
      "source": [
        "%%shell\n",
        "gcc ./1_repeat.c\n",
        "./a.out"
      ]
    },
    {
      "cell_type": "code",
      "execution_count": 5,
      "id": "4e295fb1",
      "metadata": {
        "colab": {
          "base_uri": "https://localhost:8080/"
        },
        "id": "4e295fb1",
        "outputId": "6cf991cb-ce63-4fb6-ef74-9e9eb5debc10"
      },
      "outputs": [
        {
          "output_type": "stream",
          "name": "stdout",
          "text": [
            "Overwriting 2_mile.c\n"
          ]
        }
      ],
      "source": [
        "%%writefile 2_mile.c\n",
        "#include <stdio.h>\n",
        "\n",
        "int main() {\n",
        "    int meter;\n",
        "    int i = 0;\n",
        "\n",
        "    while (i < 3) {\n",
        "        meter = i * 1609;\n",
        "        printf(\"%d마일은 %d미터입니다.\\n\", i, meter);\n",
        "        i++;\n",
        "    }\n",
        "}"
      ]
    },
    {
      "cell_type": "code",
      "execution_count": 6,
      "id": "5caf545a",
      "metadata": {
        "colab": {
          "base_uri": "https://localhost:8080/"
        },
        "id": "5caf545a",
        "outputId": "6f564210-fb90-447a-fbe9-285cb8bbacad"
      },
      "outputs": [
        {
          "output_type": "stream",
          "name": "stdout",
          "text": [
            "0마일은 0미터입니다.\n",
            "1마일은 1609미터입니다.\n",
            "2마일은 3218미터입니다.\n"
          ]
        },
        {
          "output_type": "execute_result",
          "data": {
            "text/plain": []
          },
          "metadata": {},
          "execution_count": 6
        }
      ],
      "source": [
        "%%shell\n",
        "gcc ./2_mile.c\n",
        "./a.out"
      ]
    },
    {
      "cell_type": "code",
      "execution_count": 7,
      "id": "60d0a68a",
      "metadata": {
        "colab": {
          "base_uri": "https://localhost:8080/"
        },
        "id": "60d0a68a",
        "outputId": "1b231b21-9d54-4d71-c8d1-44c707100f6c"
      },
      "outputs": [
        {
          "output_type": "stream",
          "name": "stdout",
          "text": [
            "Writing 3_fact.c\n"
          ]
        }
      ],
      "source": [
        "%%writefile 3_fact.c\n",
        "#include <stdio.h>\n",
        "\n",
        "int main() {\n",
        "    int i = 5;\n",
        "    int factorial = 1;\n",
        "\n",
        "    while (i >= 1) {\n",
        "        factorial *= i;\n",
        "        i--;\n",
        "    }\n",
        "\n",
        "    printf(\"%d\\n\", factorial);\n",
        "}"
      ]
    },
    {
      "cell_type": "code",
      "execution_count": 8,
      "id": "9500e50e",
      "metadata": {
        "colab": {
          "base_uri": "https://localhost:8080/"
        },
        "id": "9500e50e",
        "outputId": "eed205a2-902a-4c52-e641-014bd42d05e1"
      },
      "outputs": [
        {
          "output_type": "stream",
          "name": "stdout",
          "text": [
            "120\n"
          ]
        },
        {
          "output_type": "execute_result",
          "data": {
            "text/plain": []
          },
          "metadata": {},
          "execution_count": 8
        }
      ],
      "source": [
        "%%shell\n",
        "gcc ./3_fact.c\n",
        "./a.out"
      ]
    },
    {
      "cell_type": "code",
      "execution_count": 9,
      "id": "7d11ad34",
      "metadata": {
        "colab": {
          "base_uri": "https://localhost:8080/"
        },
        "id": "7d11ad34",
        "outputId": "da278d29-fccc-4cee-ee9d-1e524f52d13a"
      },
      "outputs": [
        {
          "output_type": "stream",
          "name": "stdout",
          "text": [
            "Writing 4_cal.c\n"
          ]
        }
      ],
      "source": [
        "%%writefile 4_cal.c\n",
        "#include <stdio.h>\n",
        "\n",
        "int main() {\n",
        "    int n;\n",
        "    int i = 1;\n",
        "\n",
        "    printf(\"구구단 중에서 출력하고 싶은 단을 입력하시오: \");\n",
        "    scanf(\"%d\", &n);\n",
        "\n",
        "    while (i <= 9) {\n",
        "        printf(\"%d * %d = %d\\n\", n, i, n * i);\n",
        "        i++;\n",
        "    }\n",
        "}"
      ]
    },
    {
      "cell_type": "code",
      "execution_count": 10,
      "id": "11aad95c",
      "metadata": {
        "colab": {
          "base_uri": "https://localhost:8080/"
        },
        "id": "11aad95c",
        "outputId": "8359a715-4589-42eb-81ee-1c5b4b0ca951"
      },
      "outputs": [
        {
          "output_type": "stream",
          "name": "stdout",
          "text": [
            "구구단 중에서 출력하고 싶은 단을 입력하시오: 7\n",
            "7 * 1 = 7\n",
            "7 * 2 = 14\n",
            "7 * 3 = 21\n",
            "7 * 4 = 28\n",
            "7 * 5 = 35\n",
            "7 * 6 = 42\n",
            "7 * 7 = 49\n",
            "7 * 8 = 56\n",
            "7 * 9 = 63\n"
          ]
        },
        {
          "output_type": "execute_result",
          "data": {
            "text/plain": []
          },
          "metadata": {},
          "execution_count": 10
        }
      ],
      "source": [
        "%%shell\n",
        "gcc ./4_cal.c\n",
        "./a.out"
      ]
    },
    {
      "cell_type": "code",
      "execution_count": 11,
      "id": "aa0bf787",
      "metadata": {
        "colab": {
          "base_uri": "https://localhost:8080/"
        },
        "id": "aa0bf787",
        "outputId": "05352759-7689-44bf-80be-654b5d427664"
      },
      "outputs": [
        {
          "output_type": "stream",
          "name": "stdout",
          "text": [
            "Writing 5_sum.c\n"
          ]
        }
      ],
      "source": [
        "%%writefile 5_sum.c\n",
        "#include <stdio.h>\n",
        "\n",
        "int main() {\n",
        "    int i = 1, sum = 0;\n",
        "\n",
        "    while (i <= 1000) {\n",
        "        sum += i;\n",
        "        i++;\n",
        "    }\n",
        "    printf(\"합은 %d입니다.\\n\", sum);\n",
        "}"
      ]
    },
    {
      "cell_type": "code",
      "execution_count": 12,
      "id": "33a3a9f0",
      "metadata": {
        "colab": {
          "base_uri": "https://localhost:8080/"
        },
        "id": "33a3a9f0",
        "outputId": "8e02de2c-59eb-400e-8d08-819950327414"
      },
      "outputs": [
        {
          "output_type": "stream",
          "name": "stdout",
          "text": [
            "합은 500500입니다.\n"
          ]
        },
        {
          "output_type": "execute_result",
          "data": {
            "text/plain": []
          },
          "metadata": {},
          "execution_count": 12
        }
      ],
      "source": [
        "%%shell\n",
        "gcc ./5_sum.c\n",
        "./a.out"
      ]
    },
    {
      "cell_type": "code",
      "execution_count": 13,
      "id": "97afed29",
      "metadata": {
        "colab": {
          "base_uri": "https://localhost:8080/"
        },
        "id": "97afed29",
        "outputId": "df38639d-50af-4f73-ccca-858658a5ca4f"
      },
      "outputs": [
        {
          "output_type": "stream",
          "name": "stdout",
          "text": [
            "Writing 6_dowhile.c\n"
          ]
        }
      ],
      "source": [
        "%%writefile 6_dowhile.c\n",
        "#include <stdio.h>\n",
        "\n",
        "int main() {\n",
        "    int i = 0;\n",
        "    do {\n",
        "        printf(\"1--파일열기\\n\");\n",
        "        printf(\"2--파일저장하기\\n\");\n",
        "        printf(\"3--종료\\n\");\n",
        "        printf(\"하나를 선택하시오: \");\n",
        "        scanf(\"%d\", &i);\n",
        "    } while (i < 1 || i > 3);\n",
        "\n",
        "    printf(\"선택된 메뉴 = %d\\n\", i);\n",
        "}"
      ]
    },
    {
      "cell_type": "code",
      "execution_count": 15,
      "id": "842a52f8",
      "metadata": {
        "colab": {
          "base_uri": "https://localhost:8080/"
        },
        "id": "842a52f8",
        "outputId": "ff2edb7e-c91d-443b-fe27-901f609e79cc"
      },
      "outputs": [
        {
          "output_type": "stream",
          "name": "stdout",
          "text": [
            "1--파일열기\n",
            "2--파일저장하기\n",
            "3--종료\n",
            "하나를 선택하시오: 1\n",
            "선택된 메뉴 = 1\n"
          ]
        },
        {
          "output_type": "execute_result",
          "data": {
            "text/plain": []
          },
          "metadata": {},
          "execution_count": 15
        }
      ],
      "source": [
        "%%shell\n",
        "gcc ./6_dowhile.c\n",
        "./a.out"
      ]
    },
    {
      "cell_type": "code",
      "execution_count": 16,
      "id": "61a211c7",
      "metadata": {
        "colab": {
          "base_uri": "https://localhost:8080/"
        },
        "id": "61a211c7",
        "outputId": "c9aae74f-1936-4fdf-bddf-1716831da302"
      },
      "outputs": [
        {
          "output_type": "stream",
          "name": "stdout",
          "text": [
            "Writing 7_sum.c\n"
          ]
        }
      ],
      "source": [
        "%%writefile 7_sum.c\n",
        "#include <stdio.h>\n",
        "\n",
        "int main() {\n",
        "    int sum = 0;\n",
        "\n",
        "    for (int i = 0; i < 10; i++)\n",
        "        sum += i;\n",
        "    printf(\"1무터 10까지의 정수의 합: %d\\n\", sum);\n",
        "}"
      ]
    },
    {
      "cell_type": "code",
      "execution_count": 17,
      "id": "56b85689",
      "metadata": {
        "colab": {
          "base_uri": "https://localhost:8080/"
        },
        "id": "56b85689",
        "outputId": "0293d97c-e18b-47ec-a194-08b48f4fd49d"
      },
      "outputs": [
        {
          "output_type": "stream",
          "name": "stdout",
          "text": [
            "1무터 10까지의 정수의 합: 45\n"
          ]
        },
        {
          "output_type": "execute_result",
          "data": {
            "text/plain": []
          },
          "metadata": {},
          "execution_count": 17
        }
      ],
      "source": [
        "%%shell\n",
        "gcc ./7_sum.c\n",
        "./a.out"
      ]
    },
    {
      "cell_type": "code",
      "execution_count": 18,
      "id": "32fb8705",
      "metadata": {
        "colab": {
          "base_uri": "https://localhost:8080/"
        },
        "id": "32fb8705",
        "outputId": "25808690-7161-45ba-daaf-67fe38b86708"
      },
      "outputs": [
        {
          "output_type": "stream",
          "name": "stdout",
          "text": [
            "Writing 8_square.c\n"
          ]
        }
      ],
      "source": [
        "%%writefile 8_square.c\n",
        "#include <stdio.h>\n",
        "\n",
        "int main() {\n",
        "    printf(\"**********\\n\");\n",
        "    for (int i = 0; i < 5; i++)\n",
        "        printf(\"*        *\\n\");\n",
        "    printf(\"**********\\n\");\n",
        "}"
      ]
    },
    {
      "cell_type": "code",
      "execution_count": 19,
      "id": "29beb041",
      "metadata": {
        "colab": {
          "base_uri": "https://localhost:8080/"
        },
        "id": "29beb041",
        "outputId": "555cb859-3456-4e34-c681-1bffb4cf6e2d"
      },
      "outputs": [
        {
          "output_type": "stream",
          "name": "stdout",
          "text": [
            "**********\n",
            "*        *\n",
            "*        *\n",
            "*        *\n",
            "*        *\n",
            "*        *\n",
            "**********\n"
          ]
        },
        {
          "output_type": "execute_result",
          "data": {
            "text/plain": []
          },
          "metadata": {},
          "execution_count": 19
        }
      ],
      "source": [
        "%%shell\n",
        "gcc ./8_square.c\n",
        "./a.out"
      ]
    },
    {
      "cell_type": "code",
      "execution_count": 20,
      "id": "06c07f12",
      "metadata": {
        "colab": {
          "base_uri": "https://localhost:8080/"
        },
        "id": "06c07f12",
        "outputId": "3059eda1-27c7-4416-d3c3-50fec69e312e"
      },
      "outputs": [
        {
          "output_type": "stream",
          "name": "stdout",
          "text": [
            "Writing 9_fact.c\n"
          ]
        }
      ],
      "source": [
        "%%writefile 9_fact.c\n",
        "#include <stdio.h>\n",
        "\n",
        "int main() {\n",
        "    int fact = 1, n;\n",
        "\n",
        "    printf(\"정수를 입력하시오: \");\n",
        "    scanf(\"%d\", &n);\n",
        "\n",
        "    for (int i = 1; i <= n; i++)\n",
        "        fact *= i;\n",
        "    printf(\"%d!은 %d입니다.\\n\", n, fact);\n",
        "}"
      ]
    },
    {
      "cell_type": "code",
      "execution_count": 21,
      "id": "aeb693de",
      "metadata": {
        "colab": {
          "base_uri": "https://localhost:8080/"
        },
        "id": "aeb693de",
        "outputId": "71019847-6367-40cd-c0e2-5e758de65910"
      },
      "outputs": [
        {
          "output_type": "stream",
          "name": "stdout",
          "text": [
            "정수를 입력하시오: 5\n",
            "5!은 120입니다.\n"
          ]
        },
        {
          "output_type": "execute_result",
          "data": {
            "text/plain": []
          },
          "metadata": {},
          "execution_count": 21
        }
      ],
      "source": [
        "%%shell\n",
        "gcc ./9_fact.c\n",
        "./a.out"
      ]
    },
    {
      "cell_type": "code",
      "execution_count": 22,
      "id": "9bedddcc",
      "metadata": {
        "colab": {
          "base_uri": "https://localhost:8080/"
        },
        "id": "9bedddcc",
        "outputId": "b0901d23-c3d4-47c2-e582-5d67f2590180"
      },
      "outputs": [
        {
          "output_type": "stream",
          "name": "stdout",
          "text": [
            "Writing 10_nest.c\n"
          ]
        }
      ],
      "source": [
        "%%writefile 10_nest.c\n",
        "#include <stdio.h>\n",
        "\n",
        "int main() {\n",
        "    for (int i = 0; i < 5; i++) {\n",
        "        for (int j = 0; j < 10; j++) {\n",
        "            printf(\"*\");\n",
        "        }\n",
        "        printf(\"\\n\");\n",
        "    }\n",
        "}"
      ]
    },
    {
      "cell_type": "code",
      "execution_count": 23,
      "id": "1ba38452",
      "metadata": {
        "colab": {
          "base_uri": "https://localhost:8080/"
        },
        "id": "1ba38452",
        "outputId": "5f0d3d39-52c0-4fa5-8d2a-ed8b318447b4"
      },
      "outputs": [
        {
          "output_type": "stream",
          "name": "stdout",
          "text": [
            "**********\n",
            "**********\n",
            "**********\n",
            "**********\n",
            "**********\n"
          ]
        },
        {
          "output_type": "execute_result",
          "data": {
            "text/plain": []
          },
          "metadata": {},
          "execution_count": 23
        }
      ],
      "source": [
        "%%shell\n",
        "gcc ./10_nest.c\n",
        "./a.out"
      ]
    },
    {
      "cell_type": "code",
      "execution_count": 24,
      "id": "6c2db448",
      "metadata": {
        "colab": {
          "base_uri": "https://localhost:8080/"
        },
        "id": "6c2db448",
        "outputId": "1cd6f5fb-f8ac-40dc-8303-82a221597848"
      },
      "outputs": [
        {
          "output_type": "stream",
          "name": "stdout",
          "text": [
            "Writing 11_break.c\n"
          ]
        }
      ],
      "source": [
        "%%writefile 11_break.c\n",
        "#include <stdio.h>\n",
        "\n",
        "int main() {\n",
        "    double number, sum = 0.0;\n",
        "\n",
        "    for (int i = 1; i <= 10; i++) {\n",
        "        printf(\"%d번째 실수를 입력하시오: \", i);\n",
        "        scanf(\"%lf\", &number);\n",
        "\n",
        "        if (number < 0.0)\n",
        "            break;\n",
        "        sum += number;\n",
        "    }\n",
        "\n",
        "    printf(\"합계 = %lf\\n\", sum);\n",
        "}"
      ]
    },
    {
      "cell_type": "code",
      "execution_count": 25,
      "id": "9a05168c",
      "metadata": {
        "colab": {
          "base_uri": "https://localhost:8080/"
        },
        "id": "9a05168c",
        "outputId": "1773eaa1-e80f-4dea-af6c-4b7ec9c1cb89"
      },
      "outputs": [
        {
          "output_type": "stream",
          "name": "stdout",
          "text": [
            "1번째 실수를 입력하시오: 10\n",
            "2번째 실수를 입력하시오: 20\n",
            "3번째 실수를 입력하시오: -10\n",
            "합계 = 30.000000\n"
          ]
        },
        {
          "output_type": "execute_result",
          "data": {
            "text/plain": []
          },
          "metadata": {},
          "execution_count": 25
        }
      ],
      "source": [
        "%%shell\n",
        "gcc ./11_break.c\n",
        "./a.out"
      ]
    },
    {
      "cell_type": "code",
      "execution_count": 26,
      "id": "a7f3f9aa",
      "metadata": {
        "colab": {
          "base_uri": "https://localhost:8080/"
        },
        "id": "a7f3f9aa",
        "outputId": "a6ed8741-fb80-453f-e0b6-b6731165a3cb"
      },
      "outputs": [
        {
          "output_type": "stream",
          "name": "stdout",
          "text": [
            "Writing 12_continue.c\n"
          ]
        }
      ],
      "source": [
        "%%writefile 12_continue.c\n",
        "#include <stdio.h>\n",
        "\n",
        "int main() {\n",
        "    for (int i = 0; i < 10; i++) {\n",
        "        if (i % 2 == 1)\n",
        "            continue;\n",
        "        printf(\"정수: %d\\n\", i);\n",
        "    }\n",
        "}"
      ]
    },
    {
      "cell_type": "code",
      "execution_count": 27,
      "id": "4452f973",
      "metadata": {
        "colab": {
          "base_uri": "https://localhost:8080/"
        },
        "id": "4452f973",
        "outputId": "0661e2dc-5070-442b-a2df-0ccc76e27ec7"
      },
      "outputs": [
        {
          "output_type": "stream",
          "name": "stdout",
          "text": [
            "정수: 0\n",
            "정수: 2\n",
            "정수: 4\n",
            "정수: 6\n",
            "정수: 8\n"
          ]
        },
        {
          "output_type": "execute_result",
          "data": {
            "text/plain": []
          },
          "metadata": {},
          "execution_count": 27
        }
      ],
      "source": [
        "%%shell\n",
        "gcc ./12_continue.c\n",
        "./a.out"
      ]
    }
  ],
  "metadata": {
    "colab": {
      "provenance": []
    },
    "language_info": {
      "name": "python"
    },
    "kernelspec": {
      "name": "python3",
      "display_name": "Python 3"
    }
  },
  "nbformat": 4,
  "nbformat_minor": 5
}